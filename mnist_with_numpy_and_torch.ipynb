{
 "cells": [
  {
   "cell_type": "code",
   "execution_count": 1,
   "id": "7b020042",
   "metadata": {},
   "outputs": [],
   "source": [
    "import fastbook\n",
    "fastbook.setup_book()"
   ]
  },
  {
   "cell_type": "code",
   "execution_count": 2,
   "id": "e0087609",
   "metadata": {
    "collapsed": true
   },
   "outputs": [],
   "source": [
    "from fastai.vision.all import *\n",
    "from fastbook import *"
   ]
  },
  {
   "cell_type": "code",
   "execution_count": 67,
   "id": "cec444a9",
   "metadata": {},
   "outputs": [],
   "source": [
    "from ipywidgets import interact"
   ]
  },
  {
   "cell_type": "code",
   "execution_count": 3,
   "id": "b73f8ade",
   "metadata": {},
   "outputs": [],
   "source": [
    "matplotlib.rc('image', cmap='Greys')"
   ]
  },
  {
   "cell_type": "code",
   "execution_count": 4,
   "id": "56e3bb46",
   "metadata": {},
   "outputs": [
    {
     "data": {
      "text/plain": [
       "Path('/home/abhilash/.fastai/data/mnist_sample')"
      ]
     },
     "execution_count": 4,
     "metadata": {},
     "output_type": "execute_result"
    }
   ],
   "source": [
    "path = untar_data(URLs.MNIST_SAMPLE)\n",
    "path"
   ]
  },
  {
   "cell_type": "code",
   "execution_count": 5,
   "id": "d4901b69",
   "metadata": {},
   "outputs": [
    {
     "data": {
      "text/plain": [
       "(#3) [Path('/home/abhilash/.fastai/data/mnist_sample/labels.csv'),Path('/home/abhilash/.fastai/data/mnist_sample/valid'),Path('/home/abhilash/.fastai/data/mnist_sample/train')]"
      ]
     },
     "execution_count": 5,
     "metadata": {},
     "output_type": "execute_result"
    }
   ],
   "source": [
    "path.ls()"
   ]
  },
  {
   "cell_type": "code",
   "execution_count": 6,
   "id": "a81d8c70",
   "metadata": {},
   "outputs": [
    {
     "data": {
      "text/plain": [
       "(#2) [Path('/home/abhilash/.fastai/data/mnist_sample/train/7'),Path('/home/abhilash/.fastai/data/mnist_sample/train/3')]"
      ]
     },
     "execution_count": 6,
     "metadata": {},
     "output_type": "execute_result"
    }
   ],
   "source": [
    "(path/'train').ls()"
   ]
  },
  {
   "cell_type": "code",
   "execution_count": 7,
   "id": "1e859a22",
   "metadata": {},
   "outputs": [
    {
     "data": {
      "text/plain": [
       "(#6131) [Path('/home/abhilash/.fastai/data/mnist_sample/train/3/47123.png'),Path('/home/abhilash/.fastai/data/mnist_sample/train/3/21559.png'),Path('/home/abhilash/.fastai/data/mnist_sample/train/3/17103.png'),Path('/home/abhilash/.fastai/data/mnist_sample/train/3/59660.png'),Path('/home/abhilash/.fastai/data/mnist_sample/train/3/59408.png'),Path('/home/abhilash/.fastai/data/mnist_sample/train/3/20738.png'),Path('/home/abhilash/.fastai/data/mnist_sample/train/3/8195.png'),Path('/home/abhilash/.fastai/data/mnist_sample/train/3/15109.png'),Path('/home/abhilash/.fastai/data/mnist_sample/train/3/54568.png'),Path('/home/abhilash/.fastai/data/mnist_sample/train/3/21075.png')...]"
      ]
     },
     "execution_count": 7,
     "metadata": {},
     "output_type": "execute_result"
    }
   ],
   "source": [
    "(path/'train/3').ls()"
   ]
  },
  {
   "cell_type": "code",
   "execution_count": 8,
   "id": "fa7945c9",
   "metadata": {},
   "outputs": [
    {
     "data": {
      "text/plain": [
       "(#6265) [Path('/home/abhilash/.fastai/data/mnist_sample/train/7/7420.png'),Path('/home/abhilash/.fastai/data/mnist_sample/train/7/9878.png'),Path('/home/abhilash/.fastai/data/mnist_sample/train/7/47453.png'),Path('/home/abhilash/.fastai/data/mnist_sample/train/7/18966.png'),Path('/home/abhilash/.fastai/data/mnist_sample/train/7/27005.png'),Path('/home/abhilash/.fastai/data/mnist_sample/train/7/31957.png'),Path('/home/abhilash/.fastai/data/mnist_sample/train/7/14379.png'),Path('/home/abhilash/.fastai/data/mnist_sample/train/7/5811.png'),Path('/home/abhilash/.fastai/data/mnist_sample/train/7/33104.png'),Path('/home/abhilash/.fastai/data/mnist_sample/train/7/43686.png')...]"
      ]
     },
     "execution_count": 8,
     "metadata": {},
     "output_type": "execute_result"
    }
   ],
   "source": [
    "(path/'train/7').ls()"
   ]
  },
  {
   "cell_type": "code",
   "execution_count": 9,
   "id": "8e013926",
   "metadata": {},
   "outputs": [
    {
     "data": {
      "text/plain": [
       "(#6131) [Path('/home/abhilash/.fastai/data/mnist_sample/train/3/10.png'),Path('/home/abhilash/.fastai/data/mnist_sample/train/3/10000.png'),Path('/home/abhilash/.fastai/data/mnist_sample/train/3/10011.png'),Path('/home/abhilash/.fastai/data/mnist_sample/train/3/10031.png'),Path('/home/abhilash/.fastai/data/mnist_sample/train/3/10034.png'),Path('/home/abhilash/.fastai/data/mnist_sample/train/3/10042.png'),Path('/home/abhilash/.fastai/data/mnist_sample/train/3/10052.png'),Path('/home/abhilash/.fastai/data/mnist_sample/train/3/1007.png'),Path('/home/abhilash/.fastai/data/mnist_sample/train/3/10074.png'),Path('/home/abhilash/.fastai/data/mnist_sample/train/3/10091.png')...]"
      ]
     },
     "execution_count": 9,
     "metadata": {},
     "output_type": "execute_result"
    }
   ],
   "source": [
    "three_paths = (path/'train/3').ls().sorted()\n",
    "three_paths"
   ]
  },
  {
   "cell_type": "code",
   "execution_count": 10,
   "id": "1e753c5d",
   "metadata": {},
   "outputs": [
    {
     "data": {
      "image/png": "[encoded data removed]",
      "text/plain": [
       "<PIL.PngImagePlugin.PngImageFile image mode=L size=28x28>"
      ]
     },
     "execution_count": 10,
     "metadata": {},
     "output_type": "execute_result"
    }
   ],
   "source": [
    "a_3 = Image.open(three_paths[1])\n",
    "a_3"
   ]
  },
  {
   "cell_type": "code",
   "execution_count": 11,
   "id": "956dca8d",
   "metadata": {},
   "outputs": [
    {
     "data": {
      "text/plain": [
       "<AxesSubplot: >"
      ]
     },
     "execution_count": 11,
     "metadata": {},
     "output_type": "execute_result"
    },
    {
     "data": {
      "image/png": "[encoded data removed]",
      "text/plain": [
       "<Figure size 100x100 with 1 Axes>"
      ]
     },
     "metadata": {},
     "output_type": "display_data"
    }
   ],
   "source": [
    "show_image(a_3)"
   ]
  },
  {
   "cell_type": "code",
   "execution_count": 12,
   "id": "5f7e2b17",
   "metadata": {},
   "outputs": [
    {
     "data": {
      "text/plain": [
       "tensor([[  0,   0,   0,   0],\n",
       "        [  0,   0,   0,   0],\n",
       "        [  0,   0,   0,  48],\n",
       "        [  0,  93, 244, 249]], dtype=torch.uint8)"
      ]
     },
     "execution_count": 12,
     "metadata": {},
     "output_type": "execute_result"
    }
   ],
   "source": [
    "tensor(a_3)[4:8,4:8]"
   ]
  },
  {
   "cell_type": "code",
   "execution_count": 13,
   "id": "b2badc77",
   "metadata": {},
   "outputs": [
    {
     "data": {
      "text/plain": [
       "(#6265) [Path('/home/abhilash/.fastai/data/mnist_sample/train/7/10002.png'),Path('/home/abhilash/.fastai/data/mnist_sample/train/7/1001.png'),Path('/home/abhilash/.fastai/data/mnist_sample/train/7/10014.png'),Path('/home/abhilash/.fastai/data/mnist_sample/train/7/10019.png'),Path('/home/abhilash/.fastai/data/mnist_sample/train/7/10039.png'),Path('/home/abhilash/.fastai/data/mnist_sample/train/7/10046.png'),Path('/home/abhilash/.fastai/data/mnist_sample/train/7/10050.png'),Path('/home/abhilash/.fastai/data/mnist_sample/train/7/10063.png'),Path('/home/abhilash/.fastai/data/mnist_sample/train/7/10077.png'),Path('/home/abhilash/.fastai/data/mnist_sample/train/7/10086.png')...]"
      ]
     },
     "execution_count": 13,
     "metadata": {},
     "output_type": "execute_result"
    }
   ],
   "source": [
    "seven_paths = (path/'train/7').ls().sorted()\n",
    "seven_paths"
   ]
  },
  {
   "cell_type": "code",
   "execution_count": 14,
   "id": "b123cfdb",
   "metadata": {},
   "outputs": [
    {
     "data": {
      "image/png": "[encoded data removed]",
      "text/plain": [
       "<PIL.PngImagePlugin.PngImageFile image mode=L size=28x28>"
      ]
     },
     "execution_count": 14,
     "metadata": {},
     "output_type": "execute_result"
    }
   ],
   "source": [
    "a_7 = Image.open(seven_paths[1])\n",
    "a_7"
   ]
  },
  {
   "cell_type": "code",
   "execution_count": 15,
   "id": "ce2fa313",
   "metadata": {},
   "outputs": [
    {
     "data": {
      "text/plain": [
       "<AxesSubplot: >"
      ]
     },
     "execution_count": 15,
     "metadata": {},
     "output_type": "execute_result"
    },
    {
     "data": {
      "image/png": "[encoded data removed]",
      "text/plain": [
       "<Figure size 100x100 with 1 Axes>"
      ]
     },
     "metadata": {},
     "output_type": "display_data"
    }
   ],
   "source": [
    "show_image(a_7)"
   ]
  },
  {
   "cell_type": "code",
   "execution_count": 16,
   "id": "51232e55",
   "metadata": {},
   "outputs": [
    {
     "data": {
      "text/plain": [
       "6131"
      ]
     },
     "execution_count": 16,
     "metadata": {},
     "output_type": "execute_result"
    }
   ],
   "source": [
    "three_tensors = [tensor(Image.open(o)) for o in three_paths]\n",
    "len(three_tensors)"
   ]
  },
  {
   "cell_type": "code",
   "execution_count": 17,
   "id": "f9d84dcf",
   "metadata": {},
   "outputs": [
    {
     "data": {
      "text/plain": [
       "<AxesSubplot: >"
      ]
     },
     "execution_count": 17,
     "metadata": {},
     "output_type": "execute_result"
    },
    {
     "data": {
      "image/png": "[encoded data removed]",
      "text/plain": [
       "<Figure size 100x100 with 1 Axes>"
      ]
     },
     "metadata": {},
     "output_type": "display_data"
    }
   ],
   "source": [
    "show_image(three_tensors[1])"
   ]
  },
  {
   "cell_type": "code",
   "execution_count": 18,
   "id": "cc151f12",
   "metadata": {},
   "outputs": [
    {
     "data": {
      "text/plain": [
       "6265"
      ]
     },
     "execution_count": 18,
     "metadata": {},
     "output_type": "execute_result"
    }
   ],
   "source": [
    "seven_tensors = [tensor(Image.open(o)) for o in seven_paths]\n",
    "len(seven_tensors)"
   ]
  },
  {
   "cell_type": "code",
   "execution_count": 19,
   "id": "c5392a7a",
   "metadata": {},
   "outputs": [
    {
     "data": {
      "text/plain": [
       "<AxesSubplot: >"
      ]
     },
     "execution_count": 19,
     "metadata": {},
     "output_type": "execute_result"
    },
    {
     "data": {
      "image/png": "[encoded data removed]",
      "text/plain": [
       "<Figure size 100x100 with 1 Axes>"
      ]
     },
     "metadata": {},
     "output_type": "display_data"
    }
   ],
   "source": [
    "show_image(seven_tensors[1])"
   ]
  },
  {
   "cell_type": "code",
   "execution_count": 20,
   "id": "5960bae3",
   "metadata": {},
   "outputs": [
    {
     "data": {
      "text/plain": [
       "(torch.Size([28, 28]), torch.Size([28, 28]))"
      ]
     },
     "execution_count": 20,
     "metadata": {},
     "output_type": "execute_result"
    }
   ],
   "source": [
    "three_tensors[1].shape, seven_tensors[1].shape"
   ]
  },
  {
   "cell_type": "code",
   "execution_count": 21,
   "id": "d72fa3a6",
   "metadata": {},
   "outputs": [
    {
     "data": {
      "text/plain": [
       "torch.Size([6131, 28, 28])"
      ]
     },
     "execution_count": 21,
     "metadata": {},
     "output_type": "execute_result"
    }
   ],
   "source": [
    "threes_stacked = torch.stack(three_tensors).float() / 255\n",
    "threes_stacked.shape"
   ]
  },
  {
   "cell_type": "code",
   "execution_count": 22,
   "id": "43e3ff14",
   "metadata": {},
   "outputs": [
    {
     "data": {
      "text/plain": [
       "torch.Size([6265, 28, 28])"
      ]
     },
     "execution_count": 22,
     "metadata": {},
     "output_type": "execute_result"
    }
   ],
   "source": [
    "sevens_stacked = torch.stack(seven_tensors).float() / 255\n",
    "sevens_stacked.shape"
   ]
  },
  {
   "cell_type": "code",
   "execution_count": 23,
   "id": "e9141feb",
   "metadata": {},
   "outputs": [
    {
     "data": {
      "text/plain": [
       "<AxesSubplot: >"
      ]
     },
     "execution_count": 23,
     "metadata": {},
     "output_type": "execute_result"
    },
    {
     "data": {
      "image/png": "[encoded data removed]",
      "text/plain": [
       "<Figure size 100x100 with 1 Axes>"
      ]
     },
     "metadata": {},
     "output_type": "display_data"
    }
   ],
   "source": [
    "show_image(threes_stacked[1])"
   ]
  },
  {
   "cell_type": "code",
   "execution_count": 24,
   "id": "85cae7fe",
   "metadata": {},
   "outputs": [
    {
     "data": {
      "text/plain": [
       "<AxesSubplot: >"
      ]
     },
     "execution_count": 24,
     "metadata": {},
     "output_type": "execute_result"
    },
    {
     "data": {
      "image/png": "[encoded data removed]",
      "text/plain": [
       "<Figure size 100x100 with 1 Axes>"
      ]
     },
     "metadata": {},
     "output_type": "display_data"
    }
   ],
   "source": [
    "show_image(sevens_stacked[1])"
   ]
  },
  {
   "cell_type": "code",
   "execution_count": 25,
   "id": "e7c9dcad",
   "metadata": {},
   "outputs": [
    {
     "data": {
      "text/plain": [
       "torch.Size([28, 28])"
      ]
     },
     "execution_count": 25,
     "metadata": {},
     "output_type": "execute_result"
    }
   ],
   "source": [
    "threes_mean = threes_stacked.mean(0)\n",
    "threes_mean.shape"
   ]
  },
  {
   "cell_type": "code",
   "execution_count": 26,
   "id": "ef6faa16",
   "metadata": {},
   "outputs": [
    {
     "data": {
      "text/plain": [
       "<AxesSubplot: >"
      ]
     },
     "execution_count": 26,
     "metadata": {},
     "output_type": "execute_result"
    },
    {
     "data": {
      "image/png": "[encoded data removed]",
      "text/plain": [
       "<Figure size 100x100 with 1 Axes>"
      ]
     },
     "metadata": {},
     "output_type": "display_data"
    }
   ],
   "source": [
    "show_image(threes_mean)"
   ]
  },
  {
   "cell_type": "code",
   "execution_count": 27,
   "id": "17431d5c",
   "metadata": {},
   "outputs": [
    {
     "data": {
      "text/plain": [
       "torch.Size([28, 28])"
      ]
     },
     "execution_count": 27,
     "metadata": {},
     "output_type": "execute_result"
    }
   ],
   "source": [
    "sevens_mean = sevens_stacked.mean(0)\n",
    "sevens_mean.shape"
   ]
  },
  {
   "cell_type": "code",
   "execution_count": 28,
   "id": "ba5cba46",
   "metadata": {},
   "outputs": [
    {
     "data": {
      "text/plain": [
       "<AxesSubplot: >"
      ]
     },
     "execution_count": 28,
     "metadata": {},
     "output_type": "execute_result"
    },
    {
     "data": {
      "image/png": "[encoded data removed]",
      "text/plain": [
       "<Figure size 100x100 with 1 Axes>"
      ]
     },
     "metadata": {},
     "output_type": "display_data"
    }
   ],
   "source": [
    "show_image(sevens_mean)"
   ]
  },
  {
   "cell_type": "code",
   "execution_count": 29,
   "id": "7fbbcb97",
   "metadata": {},
   "outputs": [],
   "source": [
    "def show_diff_image(tnr, mean_tnr):\n",
    "    diff = tnr - mean_tnr\n",
    "    diff[diff < 0] = 0\n",
    "    \n",
    "    _, axs = plt.subplots(1,3, figsize=(4,1))\n",
    "    show_image(tnr, axs[0])\n",
    "    show_image(mean_tnr, axs[1])\n",
    "    show_image(diff, axs[2])"
   ]
  },
  {
   "cell_type": "code",
   "execution_count": 30,
   "id": "f8208e23",
   "metadata": {},
   "outputs": [
    {
     "data": {
      "image/png": "[encoded data removed]",
      "text/plain": [
       "<Figure size 400x100 with 3 Axes>"
      ]
     },
     "metadata": {},
     "output_type": "display_data"
    }
   ],
   "source": [
    "show_diff_image(threes_stacked[4], threes_mean)"
   ]
  },
  {
   "cell_type": "code",
   "execution_count": 31,
   "id": "3e3e120c",
   "metadata": {},
   "outputs": [
    {
     "data": {
      "image/png": "[encoded data removed]",
      "text/plain": [
       "<Figure size 400x100 with 3 Axes>"
      ]
     },
     "metadata": {},
     "output_type": "display_data"
    }
   ],
   "source": [
    "show_diff_image(sevens_stacked[5], sevens_mean)"
   ]
  },
  {
   "cell_type": "code",
   "execution_count": 32,
   "id": "bae35b05",
   "metadata": {},
   "outputs": [
    {
     "data": {
      "image/png": "[encoded data removed]",
      "text/plain": [
       "<Figure size 400x100 with 3 Axes>"
      ]
     },
     "metadata": {},
     "output_type": "display_data"
    },
    {
     "data": {
      "image/png": "[encoded data removed]",
      "text/plain": [
       "<Figure size 400x100 with 3 Axes>"
      ]
     },
     "metadata": {},
     "output_type": "display_data"
    },
    {
     "data": {
      "image/png": "[encoded data removed]",
      "text/plain": [
       "<Figure size 400x100 with 3 Axes>"
      ]
     },
     "metadata": {},
     "output_type": "display_data"
    },
    {
     "data": {
      "image/png": "[encoded data removed]",
      "text/plain": [
       "<Figure size 400x100 with 3 Axes>"
      ]
     },
     "metadata": {},
     "output_type": "display_data"
    },
    {
     "data": {
      "image/png": "[encoded data removed]",
      "text/plain": [
       "<Figure size 400x100 with 3 Axes>"
      ]
     },
     "metadata": {},
     "output_type": "display_data"
    }
   ],
   "source": [
    "for i in range(80,85): show_diff_image(threes_stacked[i], threes_mean)"
   ]
  },
  {
   "cell_type": "code",
   "execution_count": 33,
   "id": "aae8ad27",
   "metadata": {},
   "outputs": [],
   "source": [
    "a_3_tensor = threes_stacked[1]\n",
    "a_7_tensor = sevens_stacked[1]"
   ]
  },
  {
   "cell_type": "code",
   "execution_count": 34,
   "id": "212c9383",
   "metadata": {},
   "outputs": [
    {
     "data": {
      "text/plain": [
       "(tensor(0.1114), tensor(0.2021))"
      ]
     },
     "execution_count": 34,
     "metadata": {},
     "output_type": "execute_result"
    }
   ],
   "source": [
    "dist_3_abs = (a_3_tensor - threes_mean).abs().mean()\n",
    "dist_3_sqr = ((a_3_tensor - threes_mean) ** 2).mean().sqrt()\n",
    "dist_3_abs, dist_3_sqr"
   ]
  },
  {
   "cell_type": "code",
   "execution_count": 35,
   "id": "ae999868",
   "metadata": {},
   "outputs": [
    {
     "data": {
      "text/plain": [
       "(tensor(0.1586), tensor(0.3021))"
      ]
     },
     "execution_count": 35,
     "metadata": {},
     "output_type": "execute_result"
    }
   ],
   "source": [
    "dist_7_abs = (a_3_tensor - sevens_mean).abs().mean()\n",
    "dist_7_sqr = ((a_3_tensor - sevens_mean) ** 2).mean().sqrt()\n",
    "dist_7_abs, dist_7_sqr"
   ]
  },
  {
   "cell_type": "code",
   "execution_count": 36,
   "id": "b563b79d",
   "metadata": {},
   "outputs": [
    {
     "data": {
      "text/plain": [
       "(tensor(0.1114), tensor(0.2021))"
      ]
     },
     "execution_count": 36,
     "metadata": {},
     "output_type": "execute_result"
    }
   ],
   "source": [
    "F.l1_loss(a_3_tensor, threes_mean), F.mse_loss(a_3_tensor, threes_mean).sqrt()"
   ]
  },
  {
   "cell_type": "code",
   "execution_count": 37,
   "id": "55f00359",
   "metadata": {},
   "outputs": [
    {
     "data": {
      "text/plain": [
       "(tensor(0.1586), tensor(0.3021))"
      ]
     },
     "execution_count": 37,
     "metadata": {},
     "output_type": "execute_result"
    }
   ],
   "source": [
    "F.l1_loss(a_3_tensor, sevens_mean), F.mse_loss(a_3_tensor, sevens_mean).sqrt()"
   ]
  },
  {
   "cell_type": "code",
   "execution_count": 38,
   "id": "4b69349a",
   "metadata": {},
   "outputs": [
    {
     "data": {
      "text/plain": [
       "('torch.FloatTensor', torch.float32)"
      ]
     },
     "execution_count": 38,
     "metadata": {},
     "output_type": "execute_result"
    }
   ],
   "source": [
    "a_3_tensor.type(), a_3_tensor.dtype"
   ]
  },
  {
   "cell_type": "markdown",
   "id": "9334c324",
   "metadata": {},
   "source": [
    "### Trying out tensors"
   ]
  },
  {
   "cell_type": "code",
   "execution_count": 39,
   "id": "83773c6f",
   "metadata": {},
   "outputs": [
    {
     "data": {
      "text/plain": [
       "tensor([[1, 2, 3],\n",
       "        [4, 5, 6]])"
      ]
     },
     "execution_count": 39,
     "metadata": {},
     "output_type": "execute_result"
    }
   ],
   "source": [
    "data = tensor([[1,2,3], [4,5,6]])\n",
    "data"
   ]
  },
  {
   "cell_type": "code",
   "execution_count": 40,
   "id": "82b31133",
   "metadata": {},
   "outputs": [
    {
     "data": {
      "text/plain": [
       "(torch.Size([2, 3]), torch.int64)"
      ]
     },
     "execution_count": 40,
     "metadata": {},
     "output_type": "execute_result"
    }
   ],
   "source": [
    "data.shape, data.dtype"
   ]
  },
  {
   "cell_type": "code",
   "execution_count": 41,
   "id": "ad1b900b",
   "metadata": {},
   "outputs": [
    {
     "data": {
      "text/plain": [
       "(tensor([1, 2, 3]), torch.Size([3]))"
      ]
     },
     "execution_count": 41,
     "metadata": {},
     "output_type": "execute_result"
    }
   ],
   "source": [
    "data[0], data[0].shape"
   ]
  },
  {
   "cell_type": "code",
   "execution_count": 42,
   "id": "18ea039d",
   "metadata": {},
   "outputs": [
    {
     "data": {
      "text/plain": [
       "(tensor([1, 4]), torch.Size([2]))"
      ]
     },
     "execution_count": 42,
     "metadata": {},
     "output_type": "execute_result"
    }
   ],
   "source": [
    "data[:,0], data[:,0].shape"
   ]
  },
  {
   "cell_type": "code",
   "execution_count": 43,
   "id": "34d38c88",
   "metadata": {},
   "outputs": [
    {
     "data": {
      "text/plain": [
       "(tensor([5, 6]), torch.Size([2]))"
      ]
     },
     "execution_count": 43,
     "metadata": {},
     "output_type": "execute_result"
    }
   ],
   "source": [
    "data[1,1:3], data[1,1:3].shape"
   ]
  },
  {
   "cell_type": "code",
   "execution_count": 44,
   "id": "bc9a30ea",
   "metadata": {
    "scrolled": true
   },
   "outputs": [
    {
     "data": {
      "text/plain": [
       "(tensor([2.5000, 3.5000, 4.5000]), tensor(3.5000))"
      ]
     },
     "execution_count": 44,
     "metadata": {},
     "output_type": "execute_result"
    }
   ],
   "source": [
    "data.float().mean(0), data.float().mean()"
   ]
  },
  {
   "cell_type": "code",
   "execution_count": 45,
   "id": "0e8bed67",
   "metadata": {},
   "outputs": [
    {
     "data": {
      "text/plain": [
       "tensor([[1., 2., 3.],\n",
       "        [4., 5., 6.]])"
      ]
     },
     "execution_count": 45,
     "metadata": {},
     "output_type": "execute_result"
    }
   ],
   "source": [
    "data = data.float()\n",
    "data"
   ]
  },
  {
   "cell_type": "code",
   "execution_count": 46,
   "id": "2fc68d27",
   "metadata": {},
   "outputs": [
    {
     "data": {
      "text/plain": [
       "tensor([[[ 0.,  1.,  2.,  3.],\n",
       "         [ 4.,  5.,  6.,  7.],\n",
       "         [ 8.,  9., 10., 11.]],\n",
       "\n",
       "        [[12., 13., 14., 15.],\n",
       "         [16., 17., 18., 19.],\n",
       "         [20., 21., 22., 23.]]])"
      ]
     },
     "execution_count": 46,
     "metadata": {},
     "output_type": "execute_result"
    }
   ],
   "source": [
    "data = torch.arange(24).reshape(2,3,4).float()\n",
    "data"
   ]
  },
  {
   "cell_type": "code",
   "execution_count": 47,
   "id": "9c02d1fe",
   "metadata": {},
   "outputs": [
    {
     "data": {
      "text/plain": [
       "(2, 3, 4)"
      ]
     },
     "execution_count": 47,
     "metadata": {},
     "output_type": "execute_result"
    }
   ],
   "source": [
    "data.size(0), data.size(1), data.size(2)"
   ]
  },
  {
   "cell_type": "code",
   "execution_count": 48,
   "id": "5b512c8d",
   "metadata": {},
   "outputs": [
    {
     "data": {
      "text/plain": [
       "(tensor([[ 6.,  7.,  8.,  9.],\n",
       "         [10., 11., 12., 13.],\n",
       "         [14., 15., 16., 17.]]),\n",
       " torch.Size([3, 4]))"
      ]
     },
     "execution_count": 48,
     "metadata": {},
     "output_type": "execute_result"
    }
   ],
   "source": [
    "data.mean(0), data.mean(0).shape, "
   ]
  },
  {
   "cell_type": "code",
   "execution_count": 49,
   "id": "b6187fe6",
   "metadata": {},
   "outputs": [
    {
     "data": {
      "text/plain": [
       "tensor(7.)"
      ]
     },
     "execution_count": 49,
     "metadata": {},
     "output_type": "execute_result"
    }
   ],
   "source": [
    "data[0][1][3]"
   ]
  },
  {
   "cell_type": "code",
   "execution_count": 50,
   "id": "393368a8",
   "metadata": {},
   "outputs": [
    {
     "data": {
      "text/plain": [
       "(tensor([[ 4.,  5.,  6.,  7.],\n",
       "         [16., 17., 18., 19.]]),\n",
       " torch.Size([2, 4]))"
      ]
     },
     "execution_count": 50,
     "metadata": {},
     "output_type": "execute_result"
    }
   ],
   "source": [
    "data.mean(1), data.mean(1).shape,"
   ]
  },
  {
   "cell_type": "code",
   "execution_count": 51,
   "id": "c220235d",
   "metadata": {},
   "outputs": [
    {
     "data": {
      "text/plain": [
       "(tensor([10., 11., 12., 13.]), torch.Size([4]))"
      ]
     },
     "execution_count": 51,
     "metadata": {},
     "output_type": "execute_result"
    }
   ],
   "source": [
    "data.mean((0,1)), data.mean((0,1)).shape,"
   ]
  },
  {
   "cell_type": "code",
   "execution_count": null,
   "id": "5eecb555",
   "metadata": {},
   "outputs": [],
   "source": []
  },
  {
   "cell_type": "code",
   "execution_count": 52,
   "id": "f54eff9b",
   "metadata": {},
   "outputs": [
    {
     "data": {
      "text/plain": [
       "torch.Size([1010, 28, 28])"
      ]
     },
     "execution_count": 52,
     "metadata": {},
     "output_type": "execute_result"
    }
   ],
   "source": [
    "valid_3_stack = torch.stack([tensor(Image.open(o)) for o in (path/'valid/3').ls().sorted()])\n",
    "valid_3_stack.shape"
   ]
  },
  {
   "cell_type": "code",
   "execution_count": 53,
   "id": "55c3094a",
   "metadata": {},
   "outputs": [
    {
     "data": {
      "text/plain": [
       "torch.Size([1028, 28, 28])"
      ]
     },
     "execution_count": 53,
     "metadata": {},
     "output_type": "execute_result"
    }
   ],
   "source": [
    "valid_7_stack = torch.stack([tensor(Image.open(o)) for o in (path/'valid/7').ls().sorted()])\n",
    "valid_7_stack.shape"
   ]
  },
  {
   "cell_type": "code",
   "execution_count": 54,
   "id": "788fd438",
   "metadata": {},
   "outputs": [],
   "source": [
    "def mnist_distance(a, b): return (a - b).abs().mean((-1,-2))"
   ]
  },
  {
   "cell_type": "code",
   "execution_count": 55,
   "id": "6d727d54",
   "metadata": {},
   "outputs": [
    {
     "data": {
      "text/plain": [
       "tensor(0.1114)"
      ]
     },
     "execution_count": 55,
     "metadata": {},
     "output_type": "execute_result"
    }
   ],
   "source": [
    "mnist_distance(a_3_tensor, threes_mean)"
   ]
  },
  {
   "cell_type": "code",
   "execution_count": 56,
   "id": "867a1be3",
   "metadata": {},
   "outputs": [
    {
     "data": {
      "text/plain": [
       "tensor([25.6367, 44.4859, 41.5864,  ..., 27.7280, 41.1506, 43.8371])"
      ]
     },
     "execution_count": 56,
     "metadata": {},
     "output_type": "execute_result"
    }
   ],
   "source": [
    "mnist_distance(valid_3_stack, threes_mean)"
   ]
  },
  {
   "cell_type": "code",
   "execution_count": 57,
   "id": "5d7df7f2",
   "metadata": {},
   "outputs": [
    {
     "data": {
      "text/plain": [
       "tensor([25.6681, 44.5278, 41.6196,  ..., 27.7274, 41.1643, 43.8784])"
      ]
     },
     "execution_count": 57,
     "metadata": {},
     "output_type": "execute_result"
    }
   ],
   "source": [
    "mnist_distance(valid_3_stack, sevens_mean)"
   ]
  },
  {
   "cell_type": "code",
   "execution_count": 58,
   "id": "81a24c74",
   "metadata": {},
   "outputs": [],
   "source": [
    "def is_3(x): return mnist_distance(x, threes_mean) < mnist_distance(x, sevens_mean)"
   ]
  },
  {
   "cell_type": "code",
   "execution_count": 59,
   "id": "933aa0fd",
   "metadata": {},
   "outputs": [
    {
     "data": {
      "text/plain": [
       "tensor(True)"
      ]
     },
     "execution_count": 59,
     "metadata": {},
     "output_type": "execute_result"
    }
   ],
   "source": [
    "is_3(a_3_tensor)"
   ]
  },
  {
   "cell_type": "code",
   "execution_count": 60,
   "id": "3dc9e537",
   "metadata": {},
   "outputs": [
    {
     "data": {
      "text/plain": [
       "tensor([ True,  True,  True,  ..., False,  True,  True])"
      ]
     },
     "execution_count": 60,
     "metadata": {},
     "output_type": "execute_result"
    }
   ],
   "source": [
    "is_3(valid_3_stack)"
   ]
  },
  {
   "cell_type": "code",
   "execution_count": 61,
   "id": "f5f52f64",
   "metadata": {},
   "outputs": [
    {
     "data": {
      "text/plain": [
       "tensor([1., 1., 1.,  ..., 0., 1., 1.])"
      ]
     },
     "execution_count": 61,
     "metadata": {},
     "output_type": "execute_result"
    }
   ],
   "source": [
    "is_3(valid_3_stack).float()"
   ]
  },
  {
   "cell_type": "code",
   "execution_count": 62,
   "id": "2217274a",
   "metadata": {},
   "outputs": [
    {
     "data": {
      "text/plain": [
       "tensor(0.9436)"
      ]
     },
     "execution_count": 62,
     "metadata": {},
     "output_type": "execute_result"
    }
   ],
   "source": [
    "accuracy_3s = is_3(valid_3_stack).float().mean()\n",
    "accuracy_3s"
   ]
  },
  {
   "cell_type": "code",
   "execution_count": 63,
   "id": "052e279c",
   "metadata": {},
   "outputs": [
    {
     "data": {
      "text/plain": [
       "tensor(0.9815)"
      ]
     },
     "execution_count": 63,
     "metadata": {},
     "output_type": "execute_result"
    }
   ],
   "source": [
    "accuracy_7s = 1 - is_3(valid_7_stack).float().mean()\n",
    "accuracy_7s"
   ]
  },
  {
   "cell_type": "markdown",
   "id": "7bc2f8a6",
   "metadata": {},
   "source": [
    "#### SGD"
   ]
  },
  {
   "cell_type": "code",
   "execution_count": 78,
   "id": "01552537",
   "metadata": {},
   "outputs": [],
   "source": [
    "def plot_f(f, x_rng=(-10,10), npoints=100):\n",
    "    x1, x2 = x_rng\n",
    "    x = torch.linspace(x1, x2, npoints)\n",
    "    y = f(x)\n",
    "    plt.plot(x, y)"
   ]
  },
  {
   "cell_type": "code",
   "execution_count": 80,
   "id": "525ce793",
   "metadata": {},
   "outputs": [],
   "source": [
    "def quad(a, b, c, x):\n",
    "    return a*(x**2) + b*x + c"
   ]
  },
  {
   "cell_type": "code",
   "execution_count": 81,
   "id": "058a3d6b",
   "metadata": {
    "collapsed": true
   },
   "outputs": [],
   "source": [
    "def mk_quad(a, b, c):\n",
    "    return partial(quad, a, b, c)"
   ]
  },
  {
   "cell_type": "code",
   "execution_count": 86,
   "id": "74aa6718",
   "metadata": {},
   "outputs": [
    {
     "data": {
      "application/vnd.jupyter.widget-view+json": {
       "model_id": "cb7d39ae7eb14e4486757bbe5123f40b",
       "version_major": 2,
       "version_minor": 0
      },
      "text/plain": [
       "interactive(children=(IntSlider(value=3, description='a', max=5, min=1), IntSlider(value=3, description='b', m…"
      ]
     },
     "metadata": {},
     "output_type": "display_data"
    }
   ],
   "source": [
    "@interact(a=(1,5,1),b=(1,5,1),c=(1,10,1))\n",
    "def plot_quad(a,b,c):\n",
    "    plot_f(mk_quad(a, b, c))"
   ]
  },
  {
   "cell_type": "code",
   "execution_count": 196,
   "id": "0ba8b0ea",
   "metadata": {},
   "outputs": [],
   "source": [
    "x = torch.linspace(-10, 10, 20).float()"
   ]
  },
  {
   "cell_type": "code",
   "execution_count": 197,
   "id": "42ed6cd1",
   "metadata": {},
   "outputs": [],
   "source": [
    "my_quad = mk_quad(2, 4, 10)"
   ]
  },
  {
   "cell_type": "code",
   "execution_count": 198,
   "id": "41392690",
   "metadata": {},
   "outputs": [
    {
     "data": {
      "text/plain": [
       "<matplotlib.collections.PathCollection at 0x7fef242221d0>"
      ]
     },
     "execution_count": 198,
     "metadata": {},
     "output_type": "execute_result"
    },
    {
     "data": {
      "image/png": "[encoded data removed]",
      "text/plain": [
       "<Figure size 640x480 with 1 Axes>"
      ]
     },
     "metadata": {},
     "output_type": "display_data"
    }
   ],
   "source": [
    "plt.scatter(x, my_quad(x))"
   ]
  },
  {
   "cell_type": "code",
   "execution_count": 199,
   "id": "87edcc10",
   "metadata": {},
   "outputs": [],
   "source": [
    "def noise(x, scale): return np.random.normal(scale=scale, size=x.shape)\n",
    "def add_noise(x, mult, add): return x * (1+noise(x,mult)) + noise(x,add)"
   ]
  },
  {
   "cell_type": "code",
   "execution_count": 212,
   "id": "d443bfa1",
   "metadata": {},
   "outputs": [],
   "source": [
    "y = add_noise(my_quad(x), 0.14, 3.5).float()"
   ]
  },
  {
   "cell_type": "code",
   "execution_count": 201,
   "id": "9d805076",
   "metadata": {},
   "outputs": [
    {
     "data": {
      "text/plain": [
       "<matplotlib.collections.PathCollection at 0x7fef15841240>"
      ]
     },
     "execution_count": 201,
     "metadata": {},
     "output_type": "execute_result"
    },
    {
     "data": {
      "image/png": "[encoded data removed]",
      "text/plain": [
       "<Figure size 640x480 with 1 Axes>"
      ]
     },
     "metadata": {},
     "output_type": "display_data"
    }
   ],
   "source": [
    "plt.plot(x, my_quad(x))\n",
    "plt.scatter(x, y)"
   ]
  },
  {
   "cell_type": "code",
   "execution_count": 276,
   "id": "45178110",
   "metadata": {},
   "outputs": [],
   "source": [
    "def quad_pred(params, x):\n",
    "    a, b, c = params\n",
    "    return a*(x ** 2) + b*x + c"
   ]
  },
  {
   "cell_type": "code",
   "execution_count": 369,
   "id": "f277ac31",
   "metadata": {},
   "outputs": [
    {
     "data": {
      "text/plain": [
       "tensor([-0.1307,  0.9796,  0.5960], requires_grad=True)"
      ]
     },
     "execution_count": 369,
     "metadata": {},
     "output_type": "execute_result"
    }
   ],
   "source": [
    "params = torch.randn(3)\n",
    "params.requires_grad_()"
   ]
  },
  {
   "cell_type": "code",
   "execution_count": 371,
   "id": "cd9abbf7",
   "metadata": {},
   "outputs": [],
   "source": [
    "lr = 1e-4\n",
    "def do_step(params, prn=True):\n",
    "    preds = quad_pred(params, x)\n",
    "    loss = F.mse_loss(preds, y).sqrt()\n",
    "    loss.backward()\n",
    "    with torch.no_grad(): \n",
    "        params -= lr* params.grad\n",
    "    params.grad = None\n",
    "    if prn: print(loss.item())\n",
    "    return loss.item()"
   ]
  },
  {
   "cell_type": "code",
   "execution_count": 372,
   "id": "15035185",
   "metadata": {},
   "outputs": [],
   "source": [
    "epoches, losses = zip(*[(i, do_step(params, False)) for i in range(10000)])"
   ]
  },
  {
   "cell_type": "code",
   "execution_count": 373,
   "id": "77f1144f",
   "metadata": {},
   "outputs": [
    {
     "data": {
      "text/plain": [
       "[<matplotlib.lines.Line2D at 0x7fef0b36c0a0>]"
      ]
     },
     "execution_count": 373,
     "metadata": {},
     "output_type": "execute_result"
    },
    {
     "data": {
      "image/png": "[encoded data removed]",
      "text/plain": [
       "<Figure size 640x480 with 1 Axes>"
      ]
     },
     "metadata": {},
     "output_type": "display_data"
    }
   ],
   "source": [
    "plt.plot(epoches, losses)"
   ]
  },
  {
   "cell_type": "code",
   "execution_count": 374,
   "id": "81f43ef2",
   "metadata": {},
   "outputs": [
    {
     "name": "stdout",
     "output_type": "stream",
     "text": [
      "tensor([2.1375, 4.5050, 0.7169])\n"
     ]
    },
    {
     "data": {
      "image/png": "[encoded data removed]",
      "text/plain": [
       "<Figure size 640x480 with 1 Axes>"
      ]
     },
     "metadata": {},
     "output_type": "display_data"
    }
   ],
   "source": [
    "plt.scatter(x, y)\n",
    "preds = quad_pred(params, x)\n",
    "plt.scatter(x, preds.detach())\n",
    "print(params.data)"
   ]
  },
  {
   "cell_type": "code",
   "execution_count": 339,
   "id": "094c1ece",
   "metadata": {},
   "outputs": [
    {
     "data": {
      "text/plain": [
       "tensor([-0.5359,  0.3355,  0.2469])"
      ]
     },
     "execution_count": 339,
     "metadata": {},
     "output_type": "execute_result"
    }
   ],
   "source": [
    "foo = torch.randn(3); foo"
   ]
  },
  {
   "cell_type": "code",
   "execution_count": 340,
   "id": "6021456b",
   "metadata": {},
   "outputs": [],
   "source": [
    "foo.requires_grad = True"
   ]
  },
  {
   "cell_type": "code",
   "execution_count": 344,
   "id": "52c055d1",
   "metadata": {},
   "outputs": [
    {
     "data": {
      "text/plain": [
       "tensor(1.5407, grad_fn=<AddBackward0>)"
      ]
     },
     "execution_count": 344,
     "metadata": {},
     "output_type": "execute_result"
    }
   ],
   "source": [
    "goo = foo[0]**2 + 3*foo[1] + foo[2]; goo"
   ]
  },
  {
   "cell_type": "code",
   "execution_count": 345,
   "id": "e96d943e",
   "metadata": {},
   "outputs": [],
   "source": [
    "goo.backward()"
   ]
  },
  {
   "cell_type": "code",
   "execution_count": 346,
   "id": "aae1bd79",
   "metadata": {},
   "outputs": [
    {
     "data": {
      "text/plain": [
       "tensor([-2.1438,  6.0000,  2.0000])"
      ]
     },
     "execution_count": 346,
     "metadata": {},
     "output_type": "execute_result"
    }
   ],
   "source": [
    "foo.grad"
   ]
  },
  {
   "cell_type": "markdown",
   "id": "f97cccd4",
   "metadata": {},
   "source": [
    "#### Resuming NN stuff"
   ]
  },
  {
   "cell_type": "code",
   "execution_count": 376,
   "id": "348cd9b4",
   "metadata": {},
   "outputs": [
    {
     "data": {
      "text/plain": [
       "(torch.Size([6131, 28, 28]), torch.Size([6265, 28, 28]))"
      ]
     },
     "execution_count": 376,
     "metadata": {},
     "output_type": "execute_result"
    }
   ],
   "source": [
    "threes_stacked.shape, sevens_stacked.shape"
   ]
  },
  {
   "cell_type": "code",
   "execution_count": 381,
   "id": "d5ba48dc",
   "metadata": {},
   "outputs": [
    {
     "data": {
      "text/plain": [
       "torch.Size([12396, 784])"
      ]
     },
     "execution_count": 381,
     "metadata": {},
     "output_type": "execute_result"
    }
   ],
   "source": [
    "torch.cat([threes_stacked, sevens_stacked]).view(-1, 28*28).shape"
   ]
  },
  {
   "cell_type": "code",
   "execution_count": 397,
   "id": "d15359e3",
   "metadata": {},
   "outputs": [
    {
     "data": {
      "text/plain": [
       "tensor([1, 1, 1,  ..., 0, 0, 0])"
      ]
     },
     "execution_count": 397,
     "metadata": {},
     "output_type": "execute_result"
    }
   ],
   "source": [
    "foo = tensor([1]*len(three_paths) + [0]*len(seven_paths)); foo"
   ]
  },
  {
   "cell_type": "code",
   "execution_count": 398,
   "id": "c14812e8",
   "metadata": {},
   "outputs": [
    {
     "data": {
      "text/plain": [
       "torch.Size([12396, 1])"
      ]
     },
     "execution_count": 398,
     "metadata": {},
     "output_type": "execute_result"
    }
   ],
   "source": [
    "foo_1 = foo.unsqueeze(1); foo_1.shape"
   ]
  },
  {
   "cell_type": "code",
   "execution_count": 401,
   "id": "048bd3ad",
   "metadata": {},
   "outputs": [
    {
     "data": {
      "text/plain": [
       "tensor([1, 1, 1,  ..., 0, 0, 0])"
      ]
     },
     "execution_count": 401,
     "metadata": {},
     "output_type": "execute_result"
    }
   ],
   "source": [
    "foo_view = foo.view(foo.shape); foo_view"
   ]
  },
  {
   "cell_type": "code",
   "execution_count": 403,
   "id": "d688ce8f",
   "metadata": {},
   "outputs": [
    {
     "data": {
      "text/plain": [
       "True"
      ]
     },
     "execution_count": 403,
     "metadata": {},
     "output_type": "execute_result"
    }
   ],
   "source": [
    "foo_view.data_ptr() == foo.data_ptr()"
   ]
  },
  {
   "cell_type": "code",
   "execution_count": 404,
   "id": "7470f876",
   "metadata": {},
   "outputs": [
    {
     "data": {
      "text/plain": [
       "True"
      ]
     },
     "execution_count": 404,
     "metadata": {},
     "output_type": "execute_result"
    }
   ],
   "source": [
    "foo.data_ptr() == foo_1.data_ptr()"
   ]
  }
 ],
 "metadata": {
  "kernelspec": {
   "display_name": "Python 3 (ipykernel)",
   "language": "python",
   "name": "python3"
  },
  "language_info": {
   "codemirror_mode": {
    "name": "ipython",
    "version": 3
   },
   "file_extension": ".py",
   "mimetype": "text/x-python",
   "name": "python",
   "nbconvert_exporter": "python",
   "pygments_lexer": "ipython3",
   "version": "3.10.6"
  }
 },
 "nbformat": 4,
 "nbformat_minor": 5
}
