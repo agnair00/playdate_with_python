{
  "cells": [
    {
      "cell_type": "code",
      "source": [
        "!pip install fastbook;"
      ],
      "metadata": {
        "id": "K7EVpOBTBUZb"
      },
      "id": "K7EVpOBTBUZb",
      "execution_count": null,
      "outputs": []
    },
    {
      "cell_type": "code",
      "execution_count": 5,
      "id": "3000edc6",
      "metadata": {
        "ExecuteTime": {
          "end_time": "2022-10-05T05:29:19.626512Z",
          "start_time": "2022-10-05T05:29:17.051842Z"
        },
        "id": "3000edc6"
      },
      "outputs": [],
      "source": [
        "from fastai.vision.all import *\n",
        "from fastbook import *\n",
        "import torch"
      ]
    },
    {
      "cell_type": "code",
      "execution_count": 6,
      "id": "b1d547c5",
      "metadata": {
        "ExecuteTime": {
          "end_time": "2022-10-05T05:29:19.653551Z",
          "start_time": "2022-10-05T05:29:19.630211Z"
        },
        "colab": {
          "base_uri": "https://localhost:8080/",
          "height": 55
        },
        "id": "b1d547c5",
        "outputId": "ea973c95-19d5-479a-bae2-a4e3e08ebb37"
      },
      "outputs": [
        {
          "output_type": "display_data",
          "data": {
            "text/plain": [
              "<IPython.core.display.HTML object>"
            ],
            "text/html": [
              "\n",
              "<style>\n",
              "    /* Turns off some styling */\n",
              "    progress {\n",
              "        /* gets rid of default border in Firefox and Opera. */\n",
              "        border: none;\n",
              "        /* Needs to be in here for Safari polyfill so background images work as expected. */\n",
              "        background-size: auto;\n",
              "    }\n",
              "    progress:not([value]), progress:not([value])::-webkit-progress-bar {\n",
              "        background: repeating-linear-gradient(45deg, #7e7e7e, #7e7e7e 10px, #5c5c5c 10px, #5c5c5c 20px);\n",
              "    }\n",
              "    .progress-bar-interrupted, .progress-bar-interrupted::-webkit-progress-bar {\n",
              "        background: #F44336;\n",
              "    }\n",
              "</style>\n"
            ]
          },
          "metadata": {}
        },
        {
          "output_type": "display_data",
          "data": {
            "text/plain": [
              "<IPython.core.display.HTML object>"
            ],
            "text/html": [
              "\n",
              "    <div>\n",
              "      <progress value='3219456' class='' max='3214948' style='width:300px; height:20px; vertical-align: middle;'></progress>\n",
              "      100.14% [3219456/3214948 00:00&lt;00:00]\n",
              "    </div>\n",
              "    "
            ]
          },
          "metadata": {}
        },
        {
          "output_type": "execute_result",
          "data": {
            "text/plain": [
              "Path('/root/.fastai/data/mnist_sample')"
            ]
          },
          "metadata": {},
          "execution_count": 6
        }
      ],
      "source": [
        "path = untar_data(URLs.MNIST_SAMPLE); path"
      ]
    },
    {
      "cell_type": "code",
      "execution_count": 7,
      "id": "9dfc8c7b",
      "metadata": {
        "ExecuteTime": {
          "end_time": "2022-10-05T05:29:19.681756Z",
          "start_time": "2022-10-05T05:29:19.658107Z"
        },
        "colab": {
          "base_uri": "https://localhost:8080/"
        },
        "id": "9dfc8c7b",
        "outputId": "1468542f-9e1d-4940-b639-ec3e986a20f9"
      },
      "outputs": [
        {
          "output_type": "execute_result",
          "data": {
            "text/plain": [
              "(#6131) [Path('/root/.fastai/data/mnist_sample/train/3/43816.png'),Path('/root/.fastai/data/mnist_sample/train/3/19326.png'),Path('/root/.fastai/data/mnist_sample/train/3/9553.png'),Path('/root/.fastai/data/mnist_sample/train/3/57194.png'),Path('/root/.fastai/data/mnist_sample/train/3/5858.png'),Path('/root/.fastai/data/mnist_sample/train/3/18453.png'),Path('/root/.fastai/data/mnist_sample/train/3/52740.png'),Path('/root/.fastai/data/mnist_sample/train/3/52590.png'),Path('/root/.fastai/data/mnist_sample/train/3/43637.png'),Path('/root/.fastai/data/mnist_sample/train/3/50995.png')...]"
            ]
          },
          "metadata": {},
          "execution_count": 7
        }
      ],
      "source": [
        "paths_train_3 = (path/'train/3').ls(); paths_train_3"
      ]
    },
    {
      "cell_type": "code",
      "execution_count": 8,
      "id": "76c3de75",
      "metadata": {
        "ExecuteTime": {
          "end_time": "2022-10-05T05:29:19.717267Z",
          "start_time": "2022-10-05T05:29:19.690699Z"
        },
        "colab": {
          "base_uri": "https://localhost:8080/"
        },
        "id": "76c3de75",
        "outputId": "5a4a7310-119d-48cf-a302-9295410b19f5"
      },
      "outputs": [
        {
          "output_type": "execute_result",
          "data": {
            "text/plain": [
              "(#6265) [Path('/root/.fastai/data/mnist_sample/train/7/48053.png'),Path('/root/.fastai/data/mnist_sample/train/7/53694.png'),Path('/root/.fastai/data/mnist_sample/train/7/18597.png'),Path('/root/.fastai/data/mnist_sample/train/7/47666.png'),Path('/root/.fastai/data/mnist_sample/train/7/23802.png'),Path('/root/.fastai/data/mnist_sample/train/7/29144.png'),Path('/root/.fastai/data/mnist_sample/train/7/28025.png'),Path('/root/.fastai/data/mnist_sample/train/7/25649.png'),Path('/root/.fastai/data/mnist_sample/train/7/19235.png'),Path('/root/.fastai/data/mnist_sample/train/7/50254.png')...]"
            ]
          },
          "metadata": {},
          "execution_count": 8
        }
      ],
      "source": [
        "paths_train_7 = (path/'train/7').ls(); paths_train_7"
      ]
    },
    {
      "cell_type": "code",
      "execution_count": 9,
      "id": "e170e508",
      "metadata": {
        "ExecuteTime": {
          "end_time": "2022-10-05T05:29:19.735181Z",
          "start_time": "2022-10-05T05:29:19.723704Z"
        },
        "colab": {
          "base_uri": "https://localhost:8080/"
        },
        "id": "e170e508",
        "outputId": "e0d6398a-6c7e-47fe-fff1-c783219ab2c2"
      },
      "outputs": [
        {
          "output_type": "execute_result",
          "data": {
            "text/plain": [
              "(6131, 6265)"
            ]
          },
          "metadata": {},
          "execution_count": 9
        }
      ],
      "source": [
        "len(paths_train_3), len(paths_train_7)"
      ]
    },
    {
      "cell_type": "code",
      "execution_count": 10,
      "id": "5770f356",
      "metadata": {
        "ExecuteTime": {
          "end_time": "2022-10-05T05:29:21.208883Z",
          "start_time": "2022-10-05T05:29:19.744909Z"
        },
        "colab": {
          "base_uri": "https://localhost:8080/"
        },
        "id": "5770f356",
        "outputId": "22635abd-2bbc-41d4-ab03-79c2c8b1c1b5"
      },
      "outputs": [
        {
          "output_type": "execute_result",
          "data": {
            "text/plain": [
              "6131"
            ]
          },
          "metadata": {},
          "execution_count": 10
        }
      ],
      "source": [
        "train_3_tnrs = [tensor(Image.open(p)) for p in paths_train_3]; len(train_3_tnrs)"
      ]
    },
    {
      "cell_type": "code",
      "execution_count": 11,
      "id": "d174eee8",
      "metadata": {
        "ExecuteTime": {
          "end_time": "2022-10-05T05:29:22.561853Z",
          "start_time": "2022-10-05T05:29:21.211912Z"
        },
        "colab": {
          "base_uri": "https://localhost:8080/"
        },
        "id": "d174eee8",
        "outputId": "fe8c8ee0-a1ce-4439-c6f7-21ad12b45499"
      },
      "outputs": [
        {
          "output_type": "execute_result",
          "data": {
            "text/plain": [
              "6265"
            ]
          },
          "metadata": {},
          "execution_count": 11
        }
      ],
      "source": [
        "train_7_tnrs = [tensor(Image.open(p)) for p in paths_train_7]; len(train_7_tnrs)"
      ]
    },
    {
      "cell_type": "code",
      "execution_count": 12,
      "id": "ecbb7771",
      "metadata": {
        "ExecuteTime": {
          "end_time": "2022-10-05T05:29:22.696976Z",
          "start_time": "2022-10-05T05:29:22.566274Z"
        },
        "colab": {
          "base_uri": "https://localhost:8080/",
          "height": 181
        },
        "id": "ecbb7771",
        "outputId": "b6f792cf-143b-4375-e709-f368ee263313"
      },
      "outputs": [
        {
          "output_type": "execute_result",
          "data": {
            "text/plain": [
              "<matplotlib.image.AxesImage at 0x7f9c5cbb3050>"
            ]
          },
          "metadata": {},
          "execution_count": 12
        },
        {
          "output_type": "display_data",
          "data": {
            "text/plain": [
              "<Figure size 144x144 with 1 Axes>"
            ],
            "image/png": "[encoded data removed]"
          },
          "metadata": {
            "needs_background": "light"
          }
        }
      ],
      "source": [
        "plt.figure(figsize=(2,2))\n",
        "plt.imshow(train_7_tnrs[0], cmap='gray')"
      ]
    },
    {
      "cell_type": "code",
      "execution_count": 13,
      "id": "7e2b5e40",
      "metadata": {
        "ExecuteTime": {
          "end_time": "2022-10-05T05:29:22.722653Z",
          "start_time": "2022-10-05T05:29:22.701184Z"
        },
        "colab": {
          "base_uri": "https://localhost:8080/"
        },
        "id": "7e2b5e40",
        "outputId": "7ea6e444-308b-4ca0-cf70-8027fbef8c7b"
      },
      "outputs": [
        {
          "output_type": "execute_result",
          "data": {
            "text/plain": [
              "torch.Size([6265, 28, 28])"
            ]
          },
          "metadata": {},
          "execution_count": 13
        }
      ],
      "source": [
        "train_7_stack = torch.stack(train_7_tnrs); train_7_stack.shape"
      ]
    },
    {
      "cell_type": "code",
      "execution_count": 14,
      "id": "753fd4d7",
      "metadata": {
        "ExecuteTime": {
          "end_time": "2022-10-05T05:29:22.754587Z",
          "start_time": "2022-10-05T05:29:22.734414Z"
        },
        "colab": {
          "base_uri": "https://localhost:8080/"
        },
        "id": "753fd4d7",
        "outputId": "35c8db86-b023-405e-ed63-5a57d9f4edd6"
      },
      "outputs": [
        {
          "output_type": "execute_result",
          "data": {
            "text/plain": [
              "torch.Size([6131, 28, 28])"
            ]
          },
          "metadata": {},
          "execution_count": 14
        }
      ],
      "source": [
        "train_3_stack = torch.stack(train_3_tnrs); train_3_stack.shape"
      ]
    },
    {
      "cell_type": "code",
      "execution_count": 15,
      "id": "5fa362b2",
      "metadata": {
        "ExecuteTime": {
          "end_time": "2022-10-05T05:29:22.770333Z",
          "start_time": "2022-10-05T05:29:22.758625Z"
        },
        "colab": {
          "base_uri": "https://localhost:8080/"
        },
        "id": "5fa362b2",
        "outputId": "71744988-4905-44da-b33f-cfd33c51d26b"
      },
      "outputs": [
        {
          "output_type": "execute_result",
          "data": {
            "text/plain": [
              "torch.Size([6131, 784])"
            ]
          },
          "metadata": {},
          "execution_count": 15
        }
      ],
      "source": [
        "train_3_flat = train_3_stack.flatten(1); train_3_flat.shape"
      ]
    },
    {
      "cell_type": "code",
      "execution_count": 16,
      "id": "a1b4fd59",
      "metadata": {
        "ExecuteTime": {
          "end_time": "2022-10-05T05:29:22.787976Z",
          "start_time": "2022-10-05T05:29:22.774666Z"
        },
        "colab": {
          "base_uri": "https://localhost:8080/"
        },
        "id": "a1b4fd59",
        "outputId": "0b9a577d-0e90-4bb3-ca8d-01590a9ba202"
      },
      "outputs": [
        {
          "output_type": "execute_result",
          "data": {
            "text/plain": [
              "torch.Size([6265, 784])"
            ]
          },
          "metadata": {},
          "execution_count": 16
        }
      ],
      "source": [
        "train_7_flat = train_7_stack.flatten(1); train_7_flat.shape"
      ]
    },
    {
      "cell_type": "code",
      "execution_count": 17,
      "id": "21f82450",
      "metadata": {
        "ExecuteTime": {
          "end_time": "2022-10-05T05:29:22.814639Z",
          "start_time": "2022-10-05T05:29:22.791594Z"
        },
        "colab": {
          "base_uri": "https://localhost:8080/"
        },
        "id": "21f82450",
        "outputId": "d6a6ed3c-43dd-4377-9554-90f708d97789"
      },
      "outputs": [
        {
          "output_type": "execute_result",
          "data": {
            "text/plain": [
              "torch.Size([12396, 784])"
            ]
          },
          "metadata": {},
          "execution_count": 17
        }
      ],
      "source": [
        "x_train = torch.cat([train_3_flat, train_7_flat]); x_train.shape"
      ]
    },
    {
      "cell_type": "code",
      "execution_count": 18,
      "id": "cb66b859",
      "metadata": {
        "ExecuteTime": {
          "end_time": "2022-10-05T05:29:22.848356Z",
          "start_time": "2022-10-05T05:29:22.819466Z"
        },
        "colab": {
          "base_uri": "https://localhost:8080/"
        },
        "id": "cb66b859",
        "outputId": "5ddb7d39-5d09-4e85-b4d4-7e11fc61c538"
      },
      "outputs": [
        {
          "output_type": "execute_result",
          "data": {
            "text/plain": [
              "torch.Size([12396, 784])"
            ]
          },
          "metadata": {},
          "execution_count": 18
        }
      ],
      "source": [
        "x_train = x_train.float(); x_train.shape"
      ]
    },
    {
      "cell_type": "code",
      "execution_count": 19,
      "id": "5029ee4a",
      "metadata": {
        "ExecuteTime": {
          "end_time": "2022-10-05T05:29:22.865048Z",
          "start_time": "2022-10-05T05:29:22.852378Z"
        },
        "colab": {
          "base_uri": "https://localhost:8080/"
        },
        "id": "5029ee4a",
        "outputId": "478e2dab-0042-4e96-cc84-0028484a716c"
      },
      "outputs": [
        {
          "output_type": "execute_result",
          "data": {
            "text/plain": [
              "torch.Size([12396, 1])"
            ]
          },
          "metadata": {},
          "execution_count": 19
        }
      ],
      "source": [
        "y_train = tensor([1]*len(train_3_tnrs) + [0]*len(train_7_tnrs)).float().unsqueeze(1); y_train.shape"
      ]
    },
    {
      "cell_type": "code",
      "execution_count": 20,
      "id": "80a012c7",
      "metadata": {
        "ExecuteTime": {
          "end_time": "2022-10-05T05:29:22.888173Z",
          "start_time": "2022-10-05T05:29:22.872722Z"
        },
        "colab": {
          "base_uri": "https://localhost:8080/"
        },
        "id": "80a012c7",
        "outputId": "4b49779a-2b50-4253-f6dd-3428f89cca06"
      },
      "outputs": [
        {
          "output_type": "execute_result",
          "data": {
            "text/plain": [
              "tensor([-2055.7864])"
            ]
          },
          "metadata": {},
          "execution_count": 20
        }
      ],
      "source": [
        "x_train[0] @ torch.randn(x_train.shape[1], 1)"
      ]
    },
    {
      "cell_type": "code",
      "execution_count": 21,
      "id": "d9ce0304",
      "metadata": {
        "ExecuteTime": {
          "end_time": "2022-10-05T05:29:22.905358Z",
          "start_time": "2022-10-05T05:29:22.895120Z"
        },
        "id": "d9ce0304"
      },
      "outputs": [],
      "source": [
        "def init_params(shape): return torch.randn(shape).requires_grad_()"
      ]
    },
    {
      "cell_type": "code",
      "execution_count": 38,
      "id": "89f80e78",
      "metadata": {
        "ExecuteTime": {
          "end_time": "2022-10-05T05:29:22.929402Z",
          "start_time": "2022-10-05T05:29:22.912073Z"
        },
        "id": "89f80e78"
      },
      "outputs": [],
      "source": [
        "def linear1(xb): return xb@weights + bias"
      ]
    },
    {
      "cell_type": "code",
      "execution_count": 23,
      "id": "cd755d53",
      "metadata": {
        "ExecuteTime": {
          "end_time": "2022-10-05T05:29:22.947098Z",
          "start_time": "2022-10-05T05:29:22.936837Z"
        },
        "id": "cd755d53"
      },
      "outputs": [],
      "source": [
        "def mnist_loss(preds, trgts):\n",
        "    preds = preds.sigmoid()\n",
        "    return torch.where(trgts==1.0, 1 - preds, preds).mean()"
      ]
    },
    {
      "cell_type": "code",
      "execution_count": 24,
      "id": "c44a4d64",
      "metadata": {
        "ExecuteTime": {
          "end_time": "2022-10-05T05:29:23.179529Z",
          "start_time": "2022-10-05T05:29:22.952029Z"
        },
        "colab": {
          "base_uri": "https://localhost:8080/"
        },
        "id": "c44a4d64",
        "outputId": "5a3a2388-dc54-457b-c8f1-13aafbcc45c9"
      },
      "outputs": [
        {
          "output_type": "execute_result",
          "data": {
            "text/plain": [
              "12396"
            ]
          },
          "metadata": {},
          "execution_count": 24
        }
      ],
      "source": [
        "dset = list((zip(x_train, y_train))); len(dset)"
      ]
    },
    {
      "cell_type": "code",
      "execution_count": 25,
      "id": "5597ab50",
      "metadata": {
        "ExecuteTime": {
          "start_time": "2022-10-05T05:30:18.208Z"
        },
        "colab": {
          "base_uri": "https://localhost:8080/"
        },
        "id": "5597ab50",
        "outputId": "984307bc-8294-4775-8a22-d33eb8cfe629"
      },
      "outputs": [
        {
          "output_type": "execute_result",
          "data": {
            "text/plain": [
              "(2, 2)"
            ]
          },
          "metadata": {},
          "execution_count": 25
        }
      ],
      "source": [
        "len(dset[0]), len(dset[1])"
      ]
    },
    {
      "cell_type": "code",
      "source": [
        "x_train_0, y_train_0 = dset[0]; x_train_0.shape, y_train_0.shape"
      ],
      "metadata": {
        "colab": {
          "base_uri": "https://localhost:8080/"
        },
        "id": "6k_SZaDBEjww",
        "outputId": "1ae64fed-afb7-4095-8421-55a7b85abaf6"
      },
      "id": "6k_SZaDBEjww",
      "execution_count": 26,
      "outputs": [
        {
          "output_type": "execute_result",
          "data": {
            "text/plain": [
              "(torch.Size([784]), torch.Size([1]))"
            ]
          },
          "metadata": {},
          "execution_count": 26
        }
      ]
    },
    {
      "cell_type": "code",
      "source": [
        "dl = torch.utils.data.DataLoader(dset, batch_size=256)"
      ],
      "metadata": {
        "id": "inMxpKeXI7Il"
      },
      "id": "inMxpKeXI7Il",
      "execution_count": 27,
      "outputs": []
    },
    {
      "cell_type": "code",
      "source": [
        "weights = init_params((28*28, 1)) #Need to decide shape of weights and that has to match the number of pixels in an image\n",
        "bias = init_params(1)"
      ],
      "metadata": {
        "id": "P7RAEWykJ1cL"
      },
      "id": "P7RAEWykJ1cL",
      "execution_count": 28,
      "outputs": []
    },
    {
      "cell_type": "markdown",
      "source": [
        "Lets choose a batch of size 4"
      ],
      "metadata": {
        "id": "9jxod4Q3LmkO"
      },
      "id": "9jxod4Q3LmkO"
    },
    {
      "cell_type": "code",
      "source": [
        "batch = x_train[:4]; batch.shape"
      ],
      "metadata": {
        "id": "R5CEQ67tLZCD",
        "outputId": "08926f4a-9703-43e9-da66-af59b0ce3ad6",
        "colab": {
          "base_uri": "https://localhost:8080/"
        }
      },
      "id": "R5CEQ67tLZCD",
      "execution_count": 29,
      "outputs": [
        {
          "output_type": "execute_result",
          "data": {
            "text/plain": [
              "torch.Size([4, 784])"
            ]
          },
          "metadata": {},
          "execution_count": 29
        }
      ]
    },
    {
      "cell_type": "code",
      "source": [
        "preds = linear1(batch, weights, bias); preds"
      ],
      "metadata": {
        "id": "J___d4PFL-Ez",
        "outputId": "9f596ae4-37cc-4fe6-9ee6-dae4215cdb08",
        "colab": {
          "base_uri": "https://localhost:8080/"
        }
      },
      "id": "J___d4PFL-Ez",
      "execution_count": 30,
      "outputs": [
        {
          "output_type": "execute_result",
          "data": {
            "text/plain": [
              "tensor([[-1700.4531],\n",
              "        [-2528.4622],\n",
              "        [-1256.9717],\n",
              "        [-1475.4575]], grad_fn=<AddBackward0>)"
            ]
          },
          "metadata": {},
          "execution_count": 30
        }
      ]
    },
    {
      "cell_type": "code",
      "source": [
        "loss = mnist_loss(preds, y_train[:4])\n",
        "loss"
      ],
      "metadata": {
        "id": "eAG2UhhVMkO4",
        "outputId": "559fac15-9c3c-4cf8-f11f-865b29b1d2b4",
        "colab": {
          "base_uri": "https://localhost:8080/"
        }
      },
      "id": "eAG2UhhVMkO4",
      "execution_count": 31,
      "outputs": [
        {
          "output_type": "execute_result",
          "data": {
            "text/plain": [
              "tensor(1., grad_fn=<MeanBackward0>)"
            ]
          },
          "metadata": {},
          "execution_count": 31
        }
      ]
    },
    {
      "cell_type": "code",
      "source": [
        "loss.backward()"
      ],
      "metadata": {
        "id": "YdaYjnswMu7D"
      },
      "id": "YdaYjnswMu7D",
      "execution_count": 32,
      "outputs": []
    },
    {
      "cell_type": "code",
      "source": [
        "weights.grad.shape, bias.grad"
      ],
      "metadata": {
        "id": "4uWh2DaSM-zb",
        "outputId": "3b83fbec-a6a6-481c-edf3-2bfa1c47476c",
        "colab": {
          "base_uri": "https://localhost:8080/"
        }
      },
      "id": "4uWh2DaSM-zb",
      "execution_count": 34,
      "outputs": [
        {
          "output_type": "execute_result",
          "data": {
            "text/plain": [
              "(torch.Size([784, 1]), tensor([0.]))"
            ]
          },
          "metadata": {},
          "execution_count": 34
        }
      ]
    },
    {
      "cell_type": "code",
      "source": [
        "def calc_gradient(xb, yb, model, loss_f):\n",
        "    preds = model(xb)\n",
        "    loss_f(preds, yb).backward()"
      ],
      "metadata": {
        "id": "_9KMng_eNTKG"
      },
      "id": "_9KMng_eNTKG",
      "execution_count": 35,
      "outputs": []
    },
    {
      "cell_type": "code",
      "source": [
        "weights.grad = None; bias.grad = None"
      ],
      "metadata": {
        "id": "Ktok7QGkNwIK"
      },
      "id": "Ktok7QGkNwIK",
      "execution_count": 36,
      "outputs": []
    },
    {
      "cell_type": "code",
      "source": [
        "calc_gradient(batch, y_train[:4], linear1, mnist_loss)"
      ],
      "metadata": {
        "id": "lWEufAbmN2Ni"
      },
      "id": "lWEufAbmN2Ni",
      "execution_count": 39,
      "outputs": []
    },
    {
      "cell_type": "code",
      "source": [
        "weights.grad.shape, bias.grad"
      ],
      "metadata": {
        "id": "TzCwusnuOL3g",
        "outputId": "4e1b3d41-ecaa-41a1-f67c-a395413e333f",
        "colab": {
          "base_uri": "https://localhost:8080/"
        }
      },
      "id": "TzCwusnuOL3g",
      "execution_count": 40,
      "outputs": [
        {
          "output_type": "execute_result",
          "data": {
            "text/plain": [
              "(torch.Size([784, 1]), tensor([0.]))"
            ]
          },
          "metadata": {},
          "execution_count": 40
        }
      ]
    },
    {
      "cell_type": "code",
      "source": [
        "weights.grad.zero_()\n",
        "bias.grad.zero_()"
      ],
      "metadata": {
        "id": "KxH2LqYdOgt-",
        "outputId": "3dbd26af-12a5-46c7-895f-e80d01bce2b5",
        "colab": {
          "base_uri": "https://localhost:8080/"
        }
      },
      "id": "KxH2LqYdOgt-",
      "execution_count": 41,
      "outputs": [
        {
          "output_type": "execute_result",
          "data": {
            "text/plain": [
              "tensor([0.])"
            ]
          },
          "metadata": {},
          "execution_count": 41
        }
      ]
    },
    {
      "cell_type": "markdown",
      "source": [
        "> Functions that modify a tensor inplace has _ in the end"
      ],
      "metadata": {
        "id": "9Dxlhco4OxmG"
      },
      "id": "9Dxlhco4OxmG"
    },
    {
      "cell_type": "code",
      "source": [
        "y = tensor([1, 0, 0, 1, 1]).float(); y"
      ],
      "metadata": {
        "id": "vMb9JxXoOvW3",
        "outputId": "96ed99e1-d7b2-4da0-fc31-a23230f3e7f0",
        "colab": {
          "base_uri": "https://localhost:8080/"
        }
      },
      "id": "vMb9JxXoOvW3",
      "execution_count": 57,
      "outputs": [
        {
          "output_type": "execute_result",
          "data": {
            "text/plain": [
              "tensor([1., 0., 0., 1., 1.])"
            ]
          },
          "metadata": {},
          "execution_count": 57
        }
      ]
    },
    {
      "cell_type": "code",
      "source": [
        "preds = tensor([0.7, 0.6, 0.2, 0.9, 0.1]); preds"
      ],
      "metadata": {
        "id": "BooYRl6DZRMJ",
        "outputId": "c084d007-5515-4544-8024-c81304f7dfca",
        "colab": {
          "base_uri": "https://localhost:8080/"
        }
      },
      "id": "BooYRl6DZRMJ",
      "execution_count": 58,
      "outputs": [
        {
          "output_type": "execute_result",
          "data": {
            "text/plain": [
              "tensor([0.7000, 0.6000, 0.2000, 0.9000, 0.1000])"
            ]
          },
          "metadata": {},
          "execution_count": 58
        }
      ]
    },
    {
      "cell_type": "code",
      "source": [
        "torch.where(y == 1.0, preds > 0.5, preds <=0.5).float().mean()"
      ],
      "metadata": {
        "id": "KK7hVQzRZhTO",
        "outputId": "db6fad4c-35e5-406b-b337-8db9b225a7ba",
        "colab": {
          "base_uri": "https://localhost:8080/"
        }
      },
      "id": "KK7hVQzRZhTO",
      "execution_count": 59,
      "outputs": [
        {
          "output_type": "execute_result",
          "data": {
            "text/plain": [
              "tensor(0.6000)"
            ]
          },
          "metadata": {},
          "execution_count": 59
        }
      ]
    },
    {
      "cell_type": "code",
      "source": [
        "valid_3_stack = torch.stack([tensor(Image.open(p)) for p in (path/'valid/3').ls()]); valid_3_stack.shape"
      ],
      "metadata": {
        "id": "lhLMB9p0cPXD",
        "outputId": "38b14f21-3c20-43a9-d679-0008a21f3022",
        "colab": {
          "base_uri": "https://localhost:8080/"
        }
      },
      "id": "lhLMB9p0cPXD",
      "execution_count": 70,
      "outputs": [
        {
          "output_type": "execute_result",
          "data": {
            "text/plain": [
              "torch.Size([1010, 28, 28])"
            ]
          },
          "metadata": {},
          "execution_count": 70
        }
      ]
    },
    {
      "cell_type": "code",
      "source": [
        "valid_7_stack = torch.stack([tensor(Image.open(p)) for p in (path/'valid/7').ls()]); valid_7_stack.shape"
      ],
      "metadata": {
        "id": "Jkv6j8fEd4qW",
        "outputId": "098d4995-20c2-480c-e066-83bcab366c82",
        "colab": {
          "base_uri": "https://localhost:8080/"
        }
      },
      "id": "Jkv6j8fEd4qW",
      "execution_count": 71,
      "outputs": [
        {
          "output_type": "execute_result",
          "data": {
            "text/plain": [
              "torch.Size([1028, 28, 28])"
            ]
          },
          "metadata": {},
          "execution_count": 71
        }
      ]
    },
    {
      "cell_type": "code",
      "source": [
        "plt.imshow(valid_7_stack[0], cmap='gray')"
      ],
      "metadata": {
        "id": "5X3f_3ANeFJK",
        "outputId": "36af5cd3-20fb-4b54-df99-cf305d916031",
        "colab": {
          "base_uri": "https://localhost:8080/",
          "height": 287
        }
      },
      "id": "5X3f_3ANeFJK",
      "execution_count": 73,
      "outputs": [
        {
          "output_type": "execute_result",
          "data": {
            "text/plain": [
              "<matplotlib.image.AxesImage at 0x7f9c5b1c6b50>"
            ]
          },
          "metadata": {},
          "execution_count": 73
        },
        {
          "output_type": "display_data",
          "data": {
            "text/plain": [
              "<Figure size 432x288 with 1 Axes>"
            ],
            "image/png": "[encoded data removed]"
          },
          "metadata": {
            "needs_background": "light"
          }
        }
      ]
    },
    {
      "cell_type": "code",
      "source": [
        "plt.imshow(valid_3_stack[0], cmap='gray')"
      ],
      "metadata": {
        "id": "Fs1KclUYeR1A",
        "outputId": "76556e17-8e37-42d0-c209-7043da6c5722",
        "colab": {
          "base_uri": "https://localhost:8080/",
          "height": 287
        }
      },
      "id": "Fs1KclUYeR1A",
      "execution_count": 74,
      "outputs": [
        {
          "output_type": "execute_result",
          "data": {
            "text/plain": [
              "<matplotlib.image.AxesImage at 0x7f9c5b1e5810>"
            ]
          },
          "metadata": {},
          "execution_count": 74
        },
        {
          "output_type": "display_data",
          "data": {
            "text/plain": [
              "<Figure size 432x288 with 1 Axes>"
            ],
            "image/png": "[encoded data removed]"
          },
          "metadata": {
            "needs_background": "light"
          }
        }
      ]
    },
    {
      "cell_type": "code",
      "source": [
        "valid_3_flat = valid_3_stack.flatten(1); valid_3_flat.shape"
      ],
      "metadata": {
        "id": "SY_LP9Y0eXbl",
        "outputId": "91a7ef4f-1b43-4cd2-a697-8dcae7b01614",
        "colab": {
          "base_uri": "https://localhost:8080/"
        }
      },
      "id": "SY_LP9Y0eXbl",
      "execution_count": 75,
      "outputs": [
        {
          "output_type": "execute_result",
          "data": {
            "text/plain": [
              "torch.Size([1010, 784])"
            ]
          },
          "metadata": {},
          "execution_count": 75
        }
      ]
    },
    {
      "cell_type": "code",
      "source": [
        "valid_7_flat = valid_7_stack.flatten(1); valid_7_flat.shape"
      ],
      "metadata": {
        "id": "6hVt7iPQetkM",
        "outputId": "087c6ffa-82ba-4332-94d8-edba63df1be3",
        "colab": {
          "base_uri": "https://localhost:8080/"
        }
      },
      "id": "6hVt7iPQetkM",
      "execution_count": 76,
      "outputs": [
        {
          "output_type": "execute_result",
          "data": {
            "text/plain": [
              "torch.Size([1028, 784])"
            ]
          },
          "metadata": {},
          "execution_count": 76
        }
      ]
    },
    {
      "cell_type": "code",
      "source": [
        "valid_x = torch.cat([valid_3_flat, valid_7_flat]); valid_x.shape"
      ],
      "metadata": {
        "id": "ws1-MaTfezbQ",
        "outputId": "1397abbc-c440-4d38-eb7d-363d5510f92f",
        "colab": {
          "base_uri": "https://localhost:8080/"
        }
      },
      "id": "ws1-MaTfezbQ",
      "execution_count": 77,
      "outputs": [
        {
          "output_type": "execute_result",
          "data": {
            "text/plain": [
              "torch.Size([2038, 784])"
            ]
          },
          "metadata": {},
          "execution_count": 77
        }
      ]
    },
    {
      "cell_type": "code",
      "source": [
        "valid_y = tensor([1]*len(valid_3_flat) + [0]*len(valid_7_flat)).float().unsqueeze(1); valid_y.shape"
      ],
      "metadata": {
        "id": "1EjrNjBoe-8s",
        "outputId": "6e5fa3b0-9cda-488f-bddd-1ecb862f051d",
        "colab": {
          "base_uri": "https://localhost:8080/"
        }
      },
      "id": "1EjrNjBoe-8s",
      "execution_count": 82,
      "outputs": [
        {
          "output_type": "execute_result",
          "data": {
            "text/plain": [
              "torch.Size([2038, 1])"
            ]
          },
          "metadata": {},
          "execution_count": 82
        }
      ]
    },
    {
      "cell_type": "code",
      "source": [
        "valid_dset = list(zip(valid_x, valid_y))"
      ],
      "metadata": {
        "id": "p29wk4ckfCGM"
      },
      "id": "p29wk4ckfCGM",
      "execution_count": 83,
      "outputs": []
    },
    {
      "cell_type": "code",
      "source": [
        "valid_dl = torch.utils.data.DataLoader(valid_dset, batch_size=256)"
      ],
      "metadata": {
        "id": "oyJO8PaLfme-"
      },
      "id": "oyJO8PaLfme-",
      "execution_count": 87,
      "outputs": []
    },
    {
      "cell_type": "code",
      "source": [
        "len(valid_dl)"
      ],
      "metadata": {
        "id": "Wpa6Q1eXgPFl",
        "outputId": "314fe7f0-7c70-4cf4-d27b-829a8691ab51",
        "colab": {
          "base_uri": "https://localhost:8080/"
        }
      },
      "id": "Wpa6Q1eXgPFl",
      "execution_count": 89,
      "outputs": [
        {
          "output_type": "execute_result",
          "data": {
            "text/plain": [
              "8"
            ]
          },
          "metadata": {},
          "execution_count": 89
        }
      ]
    },
    {
      "cell_type": "code",
      "source": [],
      "metadata": {
        "id": "d39wyiiLgPuU"
      },
      "id": "d39wyiiLgPuU",
      "execution_count": null,
      "outputs": []
    }
  ],
  "metadata": {
    "kernelspec": {
      "display_name": "Python 3 (ipykernel)",
      "language": "python",
      "name": "python3"
    },
    "language_info": {
      "codemirror_mode": {
        "name": "ipython",
        "version": 3
      },
      "file_extension": ".py",
      "mimetype": "text/x-python",
      "name": "python",
      "nbconvert_exporter": "python",
      "pygments_lexer": "ipython3",
      "version": "3.10.6"
    },
    "varInspector": {
      "cols": {
        "lenName": 16,
        "lenType": 16,
        "lenVar": 40
      },
      "kernels_config": {
        "python": {
          "delete_cmd_postfix": "",
          "delete_cmd_prefix": "del ",
          "library": "var_list.py",
          "varRefreshCmd": "print(var_dic_list())"
        },
        "r": {
          "delete_cmd_postfix": ") ",
          "delete_cmd_prefix": "rm(",
          "library": "var_list.r",
          "varRefreshCmd": "cat(var_dic_list()) "
        }
      },
      "oldHeight": 624.85,
      "position": {
        "height": "646.85px",
        "left": "1580px",
        "right": "20px",
        "top": "120px",
        "width": "306px"
      },
      "types_to_exclude": [
        "module",
        "function",
        "builtin_function_or_method",
        "instance",
        "_Feature"
      ],
      "varInspector_section_display": "block",
      "window_display": false
    },
    "colab": {
      "provenance": []
    }
  },
  "nbformat": 4,
  "nbformat_minor": 5
}