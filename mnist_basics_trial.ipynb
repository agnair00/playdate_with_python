{
  "cells": [
    {
      "cell_type": "markdown",
      "metadata": {
        "id": "view-in-github",
        "colab_type": "text"
      },
      "source": [
        "<a href=\"https://colab.research.google.com/github/agnair00/playdate_with_python/blob/main/mnist_basics_trial.ipynb\" target=\"_parent\"><img src=\"https://colab.research.google.com/assets/colab-badge.svg\" alt=\"Open In Colab\"/></a>"
      ]
    },
    {
      "cell_type": "code",
      "source": [
        "!pip install fastbook;"
      ],
      "metadata": {
        "id": "K7EVpOBTBUZb",
        "collapsed": true,
        "outputId": "9d1055a8-c2e8-477d-d7a8-c38357d15db0",
        "colab": {
          "base_uri": "https://localhost:8080/"
        }
      },
      "id": "K7EVpOBTBUZb",
      "execution_count": 1,
      "outputs": [
        {
          "output_type": "stream",
          "name": "stdout",
          "text": [
            "Looking in indexes: https://pypi.org/simple, https://us-python.pkg.dev/colab-wheels/public/simple/\n",
            "Requirement already satisfied: fastbook in /usr/local/lib/python3.7/dist-packages (0.0.28)\n",
            "Requirement already satisfied: graphviz in /usr/local/lib/python3.7/dist-packages (from fastbook) (0.10.1)\n",
            "Requirement already satisfied: pandas in /usr/local/lib/python3.7/dist-packages (from fastbook) (1.3.5)\n",
            "Requirement already satisfied: requests in /usr/local/lib/python3.7/dist-packages (from fastbook) (2.23.0)\n",
            "Requirement already satisfied: transformers in /usr/local/lib/python3.7/dist-packages (from fastbook) (4.22.2)\n",
            "Requirement already satisfied: datasets in /usr/local/lib/python3.7/dist-packages (from fastbook) (2.5.2)\n",
            "Requirement already satisfied: pip in /usr/local/lib/python3.7/dist-packages (from fastbook) (21.1.3)\n",
            "Requirement already satisfied: sentencepiece in /usr/local/lib/python3.7/dist-packages (from fastbook) (0.1.97)\n",
            "Requirement already satisfied: fastai>=2.6 in /usr/local/lib/python3.7/dist-packages (from fastbook) (2.7.9)\n",
            "Requirement already satisfied: packaging in /usr/local/lib/python3.7/dist-packages (from fastbook) (21.3)\n",
            "Requirement already satisfied: fastprogress>=0.2.4 in /usr/local/lib/python3.7/dist-packages (from fastai>=2.6->fastbook) (1.0.3)\n",
            "Requirement already satisfied: fastcore<1.6,>=1.4.5 in /usr/local/lib/python3.7/dist-packages (from fastai>=2.6->fastbook) (1.5.25)\n",
            "Requirement already satisfied: scikit-learn in /usr/local/lib/python3.7/dist-packages (from fastai>=2.6->fastbook) (1.0.2)\n",
            "Requirement already satisfied: fastdownload<2,>=0.0.5 in /usr/local/lib/python3.7/dist-packages (from fastai>=2.6->fastbook) (0.0.7)\n",
            "Requirement already satisfied: pyyaml in /usr/local/lib/python3.7/dist-packages (from fastai>=2.6->fastbook) (6.0)\n",
            "Requirement already satisfied: pillow>6.0.0 in /usr/local/lib/python3.7/dist-packages (from fastai>=2.6->fastbook) (7.1.2)\n",
            "Requirement already satisfied: torch<1.14,>=1.7 in /usr/local/lib/python3.7/dist-packages (from fastai>=2.6->fastbook) (1.12.1+cu113)\n",
            "Requirement already satisfied: torchvision>=0.8.2 in /usr/local/lib/python3.7/dist-packages (from fastai>=2.6->fastbook) (0.13.1+cu113)\n",
            "Requirement already satisfied: spacy<4 in /usr/local/lib/python3.7/dist-packages (from fastai>=2.6->fastbook) (3.4.1)\n",
            "Requirement already satisfied: scipy in /usr/local/lib/python3.7/dist-packages (from fastai>=2.6->fastbook) (1.7.3)\n",
            "Requirement already satisfied: matplotlib in /usr/local/lib/python3.7/dist-packages (from fastai>=2.6->fastbook) (3.2.2)\n",
            "Requirement already satisfied: pathy>=0.3.5 in /usr/local/lib/python3.7/dist-packages (from spacy<4->fastai>=2.6->fastbook) (0.6.2)\n",
            "Requirement already satisfied: jinja2 in /usr/local/lib/python3.7/dist-packages (from spacy<4->fastai>=2.6->fastbook) (2.11.3)\n",
            "Requirement already satisfied: numpy>=1.15.0 in /usr/local/lib/python3.7/dist-packages (from spacy<4->fastai>=2.6->fastbook) (1.21.6)\n",
            "Requirement already satisfied: preshed<3.1.0,>=3.0.2 in /usr/local/lib/python3.7/dist-packages (from spacy<4->fastai>=2.6->fastbook) (3.0.7)\n",
            "Requirement already satisfied: tqdm<5.0.0,>=4.38.0 in /usr/local/lib/python3.7/dist-packages (from spacy<4->fastai>=2.6->fastbook) (4.64.1)\n",
            "Requirement already satisfied: setuptools in /usr/local/lib/python3.7/dist-packages (from spacy<4->fastai>=2.6->fastbook) (57.4.0)\n",
            "Requirement already satisfied: catalogue<2.1.0,>=2.0.6 in /usr/local/lib/python3.7/dist-packages (from spacy<4->fastai>=2.6->fastbook) (2.0.8)\n",
            "Requirement already satisfied: spacy-legacy<3.1.0,>=3.0.9 in /usr/local/lib/python3.7/dist-packages (from spacy<4->fastai>=2.6->fastbook) (3.0.10)\n",
            "Requirement already satisfied: typer<0.5.0,>=0.3.0 in /usr/local/lib/python3.7/dist-packages (from spacy<4->fastai>=2.6->fastbook) (0.4.2)\n",
            "Requirement already satisfied: pydantic!=1.8,!=1.8.1,<1.10.0,>=1.7.4 in /usr/local/lib/python3.7/dist-packages (from spacy<4->fastai>=2.6->fastbook) (1.9.2)\n",
            "Requirement already satisfied: srsly<3.0.0,>=2.4.3 in /usr/local/lib/python3.7/dist-packages (from spacy<4->fastai>=2.6->fastbook) (2.4.4)\n",
            "Requirement already satisfied: langcodes<4.0.0,>=3.2.0 in /usr/local/lib/python3.7/dist-packages (from spacy<4->fastai>=2.6->fastbook) (3.3.0)\n",
            "Requirement already satisfied: murmurhash<1.1.0,>=0.28.0 in /usr/local/lib/python3.7/dist-packages (from spacy<4->fastai>=2.6->fastbook) (1.0.8)\n",
            "Requirement already satisfied: cymem<2.1.0,>=2.0.2 in /usr/local/lib/python3.7/dist-packages (from spacy<4->fastai>=2.6->fastbook) (2.0.6)\n",
            "Requirement already satisfied: wasabi<1.1.0,>=0.9.1 in /usr/local/lib/python3.7/dist-packages (from spacy<4->fastai>=2.6->fastbook) (0.10.1)\n",
            "Requirement already satisfied: typing-extensions<4.2.0,>=3.7.4 in /usr/local/lib/python3.7/dist-packages (from spacy<4->fastai>=2.6->fastbook) (4.1.1)\n",
            "Requirement already satisfied: thinc<8.2.0,>=8.1.0 in /usr/local/lib/python3.7/dist-packages (from spacy<4->fastai>=2.6->fastbook) (8.1.0)\n",
            "Requirement already satisfied: spacy-loggers<2.0.0,>=1.0.0 in /usr/local/lib/python3.7/dist-packages (from spacy<4->fastai>=2.6->fastbook) (1.0.3)\n",
            "Requirement already satisfied: zipp>=0.5 in /usr/local/lib/python3.7/dist-packages (from catalogue<2.1.0,>=2.0.6->spacy<4->fastai>=2.6->fastbook) (3.8.1)\n",
            "Requirement already satisfied: pyparsing!=3.0.5,>=2.0.2 in /usr/local/lib/python3.7/dist-packages (from packaging->fastbook) (3.0.9)\n",
            "Requirement already satisfied: smart-open<6.0.0,>=5.2.1 in /usr/local/lib/python3.7/dist-packages (from pathy>=0.3.5->spacy<4->fastai>=2.6->fastbook) (5.2.1)\n",
            "Requirement already satisfied: urllib3!=1.25.0,!=1.25.1,<1.26,>=1.21.1 in /usr/local/lib/python3.7/dist-packages (from requests->fastbook) (1.25.11)\n",
            "Requirement already satisfied: chardet<4,>=3.0.2 in /usr/local/lib/python3.7/dist-packages (from requests->fastbook) (3.0.4)\n",
            "Requirement already satisfied: certifi>=2017.4.17 in /usr/local/lib/python3.7/dist-packages (from requests->fastbook) (2022.6.15)\n",
            "Requirement already satisfied: idna<3,>=2.5 in /usr/local/lib/python3.7/dist-packages (from requests->fastbook) (2.10)\n",
            "Requirement already satisfied: blis<0.8.0,>=0.7.8 in /usr/local/lib/python3.7/dist-packages (from thinc<8.2.0,>=8.1.0->spacy<4->fastai>=2.6->fastbook) (0.7.8)\n",
            "Requirement already satisfied: click<9.0.0,>=7.1.1 in /usr/local/lib/python3.7/dist-packages (from typer<0.5.0,>=0.3.0->spacy<4->fastai>=2.6->fastbook) (7.1.2)\n",
            "Requirement already satisfied: pyarrow>=6.0.0 in /usr/local/lib/python3.7/dist-packages (from datasets->fastbook) (6.0.1)\n",
            "Requirement already satisfied: responses<0.19 in /usr/local/lib/python3.7/dist-packages (from datasets->fastbook) (0.18.0)\n",
            "Requirement already satisfied: multiprocess in /usr/local/lib/python3.7/dist-packages (from datasets->fastbook) (0.70.13)\n",
            "Requirement already satisfied: dill<0.3.6 in /usr/local/lib/python3.7/dist-packages (from datasets->fastbook) (0.3.5.1)\n",
            "Requirement already satisfied: importlib-metadata in /usr/local/lib/python3.7/dist-packages (from datasets->fastbook) (4.12.0)\n",
            "Requirement already satisfied: aiohttp in /usr/local/lib/python3.7/dist-packages (from datasets->fastbook) (3.8.1)\n",
            "Requirement already satisfied: huggingface-hub<1.0.0,>=0.2.0 in /usr/local/lib/python3.7/dist-packages (from datasets->fastbook) (0.10.0)\n",
            "Requirement already satisfied: xxhash in /usr/local/lib/python3.7/dist-packages (from datasets->fastbook) (3.0.0)\n",
            "Requirement already satisfied: fsspec[http]>=2021.11.1 in /usr/local/lib/python3.7/dist-packages (from datasets->fastbook) (2022.8.2)\n",
            "Requirement already satisfied: charset-normalizer<3.0,>=2.0 in /usr/local/lib/python3.7/dist-packages (from aiohttp->datasets->fastbook) (2.1.1)\n",
            "Requirement already satisfied: frozenlist>=1.1.1 in /usr/local/lib/python3.7/dist-packages (from aiohttp->datasets->fastbook) (1.3.1)\n",
            "Requirement already satisfied: aiosignal>=1.1.2 in /usr/local/lib/python3.7/dist-packages (from aiohttp->datasets->fastbook) (1.2.0)\n",
            "Requirement already satisfied: async-timeout<5.0,>=4.0.0a3 in /usr/local/lib/python3.7/dist-packages (from aiohttp->datasets->fastbook) (4.0.2)\n",
            "Requirement already satisfied: yarl<2.0,>=1.0 in /usr/local/lib/python3.7/dist-packages (from aiohttp->datasets->fastbook) (1.8.1)\n",
            "Requirement already satisfied: multidict<7.0,>=4.5 in /usr/local/lib/python3.7/dist-packages (from aiohttp->datasets->fastbook) (6.0.2)\n",
            "Requirement already satisfied: asynctest==0.13.0 in /usr/local/lib/python3.7/dist-packages (from aiohttp->datasets->fastbook) (0.13.0)\n",
            "Requirement already satisfied: attrs>=17.3.0 in /usr/local/lib/python3.7/dist-packages (from aiohttp->datasets->fastbook) (22.1.0)\n",
            "Requirement already satisfied: filelock in /usr/local/lib/python3.7/dist-packages (from huggingface-hub<1.0.0,>=0.2.0->datasets->fastbook) (3.8.0)\n",
            "Requirement already satisfied: MarkupSafe>=0.23 in /usr/local/lib/python3.7/dist-packages (from jinja2->spacy<4->fastai>=2.6->fastbook) (2.0.1)\n",
            "Requirement already satisfied: kiwisolver>=1.0.1 in /usr/local/lib/python3.7/dist-packages (from matplotlib->fastai>=2.6->fastbook) (1.4.4)\n",
            "Requirement already satisfied: python-dateutil>=2.1 in /usr/local/lib/python3.7/dist-packages (from matplotlib->fastai>=2.6->fastbook) (2.8.2)\n",
            "Requirement already satisfied: cycler>=0.10 in /usr/local/lib/python3.7/dist-packages (from matplotlib->fastai>=2.6->fastbook) (0.11.0)\n",
            "Requirement already satisfied: six>=1.5 in /usr/local/lib/python3.7/dist-packages (from python-dateutil>=2.1->matplotlib->fastai>=2.6->fastbook) (1.15.0)\n",
            "Requirement already satisfied: pytz>=2017.3 in /usr/local/lib/python3.7/dist-packages (from pandas->fastbook) (2022.2.1)\n",
            "Requirement already satisfied: joblib>=0.11 in /usr/local/lib/python3.7/dist-packages (from scikit-learn->fastai>=2.6->fastbook) (1.1.0)\n",
            "Requirement already satisfied: threadpoolctl>=2.0.0 in /usr/local/lib/python3.7/dist-packages (from scikit-learn->fastai>=2.6->fastbook) (3.1.0)\n",
            "Requirement already satisfied: regex!=2019.12.17 in /usr/local/lib/python3.7/dist-packages (from transformers->fastbook) (2022.6.2)\n",
            "Requirement already satisfied: tokenizers!=0.11.3,<0.13,>=0.11.1 in /usr/local/lib/python3.7/dist-packages (from transformers->fastbook) (0.12.1)\n"
          ]
        }
      ]
    },
    {
      "cell_type": "code",
      "execution_count": 2,
      "id": "3000edc6",
      "metadata": {
        "ExecuteTime": {
          "end_time": "2022-10-05T05:29:19.626512Z",
          "start_time": "2022-10-05T05:29:17.051842Z"
        },
        "id": "3000edc6"
      },
      "outputs": [],
      "source": [
        "from fastai.vision.all import *\n",
        "from fastbook import *\n",
        "import torch"
      ]
    },
    {
      "cell_type": "code",
      "execution_count": 3,
      "id": "b1d547c5",
      "metadata": {
        "ExecuteTime": {
          "end_time": "2022-10-05T05:29:19.653551Z",
          "start_time": "2022-10-05T05:29:19.630211Z"
        },
        "colab": {
          "base_uri": "https://localhost:8080/"
        },
        "id": "b1d547c5",
        "outputId": "80dae340-5690-4b4e-b4d1-557266337f96"
      },
      "outputs": [
        {
          "output_type": "execute_result",
          "data": {
            "text/plain": [
              "Path('/root/.fastai/data/mnist_sample')"
            ]
          },
          "metadata": {},
          "execution_count": 3
        }
      ],
      "source": [
        "path = untar_data(URLs.MNIST_SAMPLE); path"
      ]
    },
    {
      "cell_type": "markdown",
      "source": [
        "First step is create our dataloaders. Atthe end of it, we should have our training dataloader and our validation dataloader."
      ],
      "metadata": {
        "id": "BOneYYRFBrkv"
      },
      "id": "BOneYYRFBrkv"
    },
    {
      "cell_type": "code",
      "source": [
        "train_3_stack = torch.stack([tensor(Image.open(p)).float() for p in (path/'train/3').ls()])\n",
        "train_3_stack.shape"
      ],
      "metadata": {
        "id": "DP79pYaqBShP",
        "outputId": "7b02acff-6e21-4a45-8031-a3c6f0a7d104",
        "colab": {
          "base_uri": "https://localhost:8080/"
        }
      },
      "id": "DP79pYaqBShP",
      "execution_count": 4,
      "outputs": [
        {
          "output_type": "execute_result",
          "data": {
            "text/plain": [
              "torch.Size([6131, 28, 28])"
            ]
          },
          "metadata": {},
          "execution_count": 4
        }
      ]
    },
    {
      "cell_type": "code",
      "source": [
        "train_7_stack = torch.stack([tensor(Image.open(p)).float() for p in (path/'train/7').ls()])\n",
        "train_7_stack.shape"
      ],
      "metadata": {
        "id": "4BQCvP9zCZNZ",
        "outputId": "d26a4b24-3969-4693-9504-5d9ed2b736e0",
        "colab": {
          "base_uri": "https://localhost:8080/"
        }
      },
      "id": "4BQCvP9zCZNZ",
      "execution_count": 5,
      "outputs": [
        {
          "output_type": "execute_result",
          "data": {
            "text/plain": [
              "torch.Size([6265, 28, 28])"
            ]
          },
          "metadata": {},
          "execution_count": 5
        }
      ]
    },
    {
      "cell_type": "code",
      "source": [
        "train_x = torch.cat([train_3_stack, train_7_stack]).flatten(1)\n",
        "train_x.shape"
      ],
      "metadata": {
        "id": "_B8d_kj3CuEF",
        "outputId": "1c14e6ce-b4b2-442a-ac80-b1b6d18f3ae2",
        "colab": {
          "base_uri": "https://localhost:8080/"
        }
      },
      "id": "_B8d_kj3CuEF",
      "execution_count": 6,
      "outputs": [
        {
          "output_type": "execute_result",
          "data": {
            "text/plain": [
              "torch.Size([12396, 784])"
            ]
          },
          "metadata": {},
          "execution_count": 6
        }
      ]
    },
    {
      "cell_type": "code",
      "source": [
        "train_y = tensor([1]*len(train_3_stack) + [0]*len(train_7_stack)).float().unsqueeze(1)\n",
        "train_y.shape"
      ],
      "metadata": {
        "id": "cwMP1V4_DMRu",
        "outputId": "faa8e479-6a55-4121-bf06-d19cc00a82de",
        "colab": {
          "base_uri": "https://localhost:8080/"
        }
      },
      "id": "cwMP1V4_DMRu",
      "execution_count": 7,
      "outputs": [
        {
          "output_type": "execute_result",
          "data": {
            "text/plain": [
              "torch.Size([12396, 1])"
            ]
          },
          "metadata": {},
          "execution_count": 7
        }
      ]
    },
    {
      "cell_type": "code",
      "source": [
        "valid_3_stack = torch.stack([tensor(Image.open(p)).float() for p in (path/'valid/3').ls()])\n",
        "valid_3_stack.shape"
      ],
      "metadata": {
        "id": "oinSl1MQDpIf",
        "outputId": "30aed6a2-51c5-4e91-f714-4c43d221ada6",
        "colab": {
          "base_uri": "https://localhost:8080/"
        }
      },
      "id": "oinSl1MQDpIf",
      "execution_count": 8,
      "outputs": [
        {
          "output_type": "execute_result",
          "data": {
            "text/plain": [
              "torch.Size([1010, 28, 28])"
            ]
          },
          "metadata": {},
          "execution_count": 8
        }
      ]
    },
    {
      "cell_type": "code",
      "source": [
        "valid_7_stack = torch.stack([tensor(Image.open(p)).float() for p in (path/'valid/7').ls()])\n",
        "valid_7_stack.shape"
      ],
      "metadata": {
        "id": "oc0kkKVgD9xS",
        "outputId": "b50408ae-0926-4979-ebfd-b9757dbdb342",
        "colab": {
          "base_uri": "https://localhost:8080/"
        }
      },
      "id": "oc0kkKVgD9xS",
      "execution_count": 9,
      "outputs": [
        {
          "output_type": "execute_result",
          "data": {
            "text/plain": [
              "torch.Size([1028, 28, 28])"
            ]
          },
          "metadata": {},
          "execution_count": 9
        }
      ]
    },
    {
      "cell_type": "code",
      "source": [
        "valid_x = torch.cat([valid_3_stack, valid_7_stack]).flatten(1)\n",
        "valid_x.shape"
      ],
      "metadata": {
        "id": "qRT0xBt1ERwV",
        "outputId": "d270f27b-1d1d-47be-ccd9-b3da95077737",
        "colab": {
          "base_uri": "https://localhost:8080/"
        }
      },
      "id": "qRT0xBt1ERwV",
      "execution_count": 10,
      "outputs": [
        {
          "output_type": "execute_result",
          "data": {
            "text/plain": [
              "torch.Size([2038, 784])"
            ]
          },
          "metadata": {},
          "execution_count": 10
        }
      ]
    },
    {
      "cell_type": "code",
      "source": [
        "valid_y = tensor([1]*len(valid_3_stack) + [0]*len(valid_7_stack)).float().unsqueeze(1)\n",
        "valid_y.shape"
      ],
      "metadata": {
        "id": "ZXF2DkziEgHS",
        "outputId": "a5bd8594-3003-4eb7-a212-279517c028a9",
        "colab": {
          "base_uri": "https://localhost:8080/"
        }
      },
      "id": "ZXF2DkziEgHS",
      "execution_count": 11,
      "outputs": [
        {
          "output_type": "execute_result",
          "data": {
            "text/plain": [
              "torch.Size([2038, 1])"
            ]
          },
          "metadata": {},
          "execution_count": 11
        }
      ]
    },
    {
      "cell_type": "code",
      "source": [
        "train_dset = list(zip(train_x, train_y))"
      ],
      "metadata": {
        "id": "At_MaABXExjL"
      },
      "id": "At_MaABXExjL",
      "execution_count": 12,
      "outputs": []
    },
    {
      "cell_type": "code",
      "source": [
        "train_dl = torch.utils.data.DataLoader(train_dset, batch_size=256)\n",
        "len(train_dl)"
      ],
      "metadata": {
        "id": "q8XHopVNFiPp",
        "outputId": "10029648-8a54-478f-bb58-10c824258a18",
        "colab": {
          "base_uri": "https://localhost:8080/"
        }
      },
      "id": "q8XHopVNFiPp",
      "execution_count": 13,
      "outputs": [
        {
          "output_type": "execute_result",
          "data": {
            "text/plain": [
              "49"
            ]
          },
          "metadata": {},
          "execution_count": 13
        }
      ]
    },
    {
      "cell_type": "markdown",
      "source": [
        "So our training dataloader has 49 batches"
      ],
      "metadata": {
        "id": "JvoM2KwvF9al"
      },
      "id": "JvoM2KwvF9al"
    },
    {
      "cell_type": "code",
      "source": [
        "valid_dset = list(zip(valid_x, valid_y))\n",
        "valid_dl = torch.utils.data.DataLoader(valid_dset, batch_size=256)\n",
        "len(valid_dl)"
      ],
      "metadata": {
        "id": "60ftPP_8GF78",
        "outputId": "073ec2ad-2e80-42cb-a60a-f2a3183fa4b3",
        "colab": {
          "base_uri": "https://localhost:8080/"
        }
      },
      "id": "60ftPP_8GF78",
      "execution_count": 14,
      "outputs": [
        {
          "output_type": "execute_result",
          "data": {
            "text/plain": [
              "8"
            ]
          },
          "metadata": {},
          "execution_count": 14
        }
      ]
    },
    {
      "cell_type": "markdown",
      "source": [
        "So now we have our training and our validation dataloaders"
      ],
      "metadata": {
        "id": "6KrOyIKTJ1tF"
      },
      "id": "6KrOyIKTJ1tF"
    },
    {
      "cell_type": "code",
      "source": [
        "def init_params(size):\n",
        "    return torch.randn(size).requires_grad_()"
      ],
      "metadata": {
        "id": "5ozC_oeBJxh1"
      },
      "id": "5ozC_oeBJxh1",
      "execution_count": 15,
      "outputs": []
    },
    {
      "cell_type": "code",
      "source": [
        "params = init_params((784, 1)), init_params(1)"
      ],
      "metadata": {
        "id": "9jHBLwapMOTa"
      },
      "id": "9jHBLwapMOTa",
      "execution_count": 16,
      "outputs": []
    },
    {
      "cell_type": "code",
      "source": [
        "def linear1(xb, params):\n",
        "    weights, bias = params\n",
        "    return (xb @ weights) + bias"
      ],
      "metadata": {
        "id": "NZwoHxwnM5-C"
      },
      "id": "NZwoHxwnM5-C",
      "execution_count": 17,
      "outputs": []
    },
    {
      "cell_type": "code",
      "source": [
        "def mnist_loss(predictions, targets):\n",
        "    predictions = predictions.sigmoid()\n",
        "    return torch.where(targets == 1.0, 1 - predictions, predictions).mean()"
      ],
      "metadata": {
        "id": "K7xZLsJ3OxXB"
      },
      "id": "K7xZLsJ3OxXB",
      "execution_count": 18,
      "outputs": []
    },
    {
      "cell_type": "code",
      "source": [
        "mnist_loss(linear1(train_x[:4], params), train_y[:4])"
      ],
      "metadata": {
        "id": "yJmAqxqdPQJ-",
        "outputId": "caadb355-59ca-4145-9d21-79e94c6b6718",
        "colab": {
          "base_uri": "https://localhost:8080/"
        }
      },
      "id": "yJmAqxqdPQJ-",
      "execution_count": 19,
      "outputs": [
        {
          "output_type": "execute_result",
          "data": {
            "text/plain": [
              "tensor(1., grad_fn=<MeanBackward0>)"
            ]
          },
          "metadata": {},
          "execution_count": 19
        }
      ]
    },
    {
      "cell_type": "code",
      "source": [
        "def calc_grad1(model, loss_f, params, xb, yb):\n",
        "    preds = model(xb, params)\n",
        "    loss = loss_f(preds, yb)\n",
        "    print(loss)\n",
        "    loss.backward()"
      ],
      "metadata": {
        "id": "uQDkO6PTPidP"
      },
      "id": "uQDkO6PTPidP",
      "execution_count": 104,
      "outputs": []
    },
    {
      "cell_type": "code",
      "source": [
        "for param in params:\n",
        "    try:\n",
        "        print(param.grad.shape)\n",
        "    except:\n",
        "        print('param has no grad')"
      ],
      "metadata": {
        "id": "okr9OnWWRbMO",
        "outputId": "5ad12d19-7a25-4780-9907-ce662e2c9e7f",
        "colab": {
          "base_uri": "https://localhost:8080/"
        }
      },
      "id": "okr9OnWWRbMO",
      "execution_count": 21,
      "outputs": [
        {
          "output_type": "stream",
          "name": "stdout",
          "text": [
            "param has no grad\n",
            "param has no grad\n"
          ]
        }
      ]
    },
    {
      "cell_type": "code",
      "source": [
        "calc_grad1(linear1, mnist_loss, params, train_x[:4], train_y[:4])"
      ],
      "metadata": {
        "id": "J8KSwOqbQ8mw"
      },
      "id": "J8KSwOqbQ8mw",
      "execution_count": 22,
      "outputs": []
    },
    {
      "cell_type": "code",
      "source": [
        "for param in params:\n",
        "    try:\n",
        "        print(param.grad.shape)\n",
        "    except:\n",
        "        print('param has no grad')"
      ],
      "metadata": {
        "id": "oBXZIlSPRaBL",
        "outputId": "6652449f-9090-4f67-c792-f0018f7bbbe8",
        "colab": {
          "base_uri": "https://localhost:8080/"
        }
      },
      "id": "oBXZIlSPRaBL",
      "execution_count": 23,
      "outputs": [
        {
          "output_type": "stream",
          "name": "stdout",
          "text": [
            "torch.Size([784, 1])\n",
            "torch.Size([1])\n"
          ]
        }
      ]
    },
    {
      "cell_type": "code",
      "source": [
        "def train_epoch1(train_dl, model, loss, params, lr):\n",
        "    for xb, yb in train_dl:\n",
        "        calc_grad1(model, loss, params, xb, yb)\n",
        "        for param in params:\n",
        "            with torch.no_grad():\n",
        "                param -= lr * param.grad\n",
        "            param.grad.zero_()"
      ],
      "metadata": {
        "id": "BlMnwc9LRwLA"
      },
      "id": "BlMnwc9LRwLA",
      "execution_count": 24,
      "outputs": []
    },
    {
      "cell_type": "code",
      "source": [
        "def batch_accuracy1(preds, yb):\n",
        "    preds = preds.sigmoid()\n",
        "    return ((preds > 0.5) == yb).float().mean()"
      ],
      "metadata": {
        "id": "5Qau8EgrTwlR"
      },
      "id": "5Qau8EgrTwlR",
      "execution_count": 25,
      "outputs": []
    },
    {
      "cell_type": "code",
      "source": [
        "def validate_epoch1(valid_dl, model, params):\n",
        "    with torch.no_grad():\n",
        "        accs = [batch_accuracy1(model(xb, params), yb) for xb, yb in valid_dl]\n",
        "        accuracy = torch.stack(accs)\n",
        "    return round(accuracy.mean().item(), 4)"
      ],
      "metadata": {
        "id": "sZnwiXCmXMVa"
      },
      "id": "sZnwiXCmXMVa",
      "execution_count": 26,
      "outputs": []
    },
    {
      "cell_type": "code",
      "source": [
        "validate_epoch1(valid_dl, linear1, params)"
      ],
      "metadata": {
        "id": "ZzqAUH0hYmQi",
        "outputId": "dbfb34e8-4444-4cc2-a804-feca74ebd10f",
        "colab": {
          "base_uri": "https://localhost:8080/"
        }
      },
      "id": "ZzqAUH0hYmQi",
      "execution_count": 27,
      "outputs": [
        {
          "output_type": "execute_result",
          "data": {
            "text/plain": [
              "0.5451"
            ]
          },
          "metadata": {},
          "execution_count": 27
        }
      ]
    },
    {
      "cell_type": "code",
      "source": [
        "lr = 1.0\n",
        "for _ in range(1):\n",
        "    train_epoch1(train_dl, linear1, mnist_loss, params, lr)\n",
        "    print(validate_epoch1(valid_dl, linear1, params), end=' ')"
      ],
      "metadata": {
        "id": "nQ2qhWerZGxc",
        "outputId": "b10947ca-5171-4f39-b3da-4e312fe1eda8",
        "colab": {
          "base_uri": "https://localhost:8080/"
        }
      },
      "id": "nQ2qhWerZGxc",
      "execution_count": 105,
      "outputs": [
        {
          "output_type": "stream",
          "name": "stdout",
          "text": [
            "tensor(0.1094, grad_fn=<MeanBackward0>)\n",
            "tensor(0.0547, grad_fn=<MeanBackward0>)\n",
            "tensor(0.0664, grad_fn=<MeanBackward0>)\n",
            "tensor(0.1133, grad_fn=<MeanBackward0>)\n",
            "tensor(0.0742, grad_fn=<MeanBackward0>)\n",
            "tensor(0.0859, grad_fn=<MeanBackward0>)\n",
            "tensor(0.0938, grad_fn=<MeanBackward0>)\n",
            "tensor(0.0977, grad_fn=<MeanBackward0>)\n",
            "tensor(0.0859, grad_fn=<MeanBackward0>)\n",
            "tensor(0.0898, grad_fn=<MeanBackward0>)\n",
            "tensor(0.0820, grad_fn=<MeanBackward0>)\n",
            "tensor(0.0674, grad_fn=<MeanBackward0>)\n",
            "tensor(0.0234, grad_fn=<MeanBackward0>)\n",
            "tensor(0.0352, grad_fn=<MeanBackward0>)\n",
            "tensor(0.0117, grad_fn=<MeanBackward0>)\n",
            "tensor(0.0312, grad_fn=<MeanBackward0>)\n",
            "tensor(0.0156, grad_fn=<MeanBackward0>)\n",
            "tensor(0.0156, grad_fn=<MeanBackward0>)\n",
            "tensor(0.0469, grad_fn=<MeanBackward0>)\n",
            "tensor(0.0234, grad_fn=<MeanBackward0>)\n",
            "tensor(0.0234, grad_fn=<MeanBackward0>)\n",
            "tensor(0.0391, grad_fn=<MeanBackward0>)\n",
            "tensor(0.0312, grad_fn=<MeanBackward0>)\n",
            "tensor(0.0352, grad_fn=<MeanBackward0>)\n",
            "tensor(0.0195, grad_fn=<MeanBackward0>)\n",
            "tensor(0.0195, grad_fn=<MeanBackward0>)\n",
            "tensor(0.0195, grad_fn=<MeanBackward0>)\n",
            "tensor(0.0195, grad_fn=<MeanBackward0>)\n",
            "tensor(0.0195, grad_fn=<MeanBackward0>)\n",
            "tensor(0.0234, grad_fn=<MeanBackward0>)\n",
            "tensor(0.0117, grad_fn=<MeanBackward0>)\n",
            "tensor(0.0195, grad_fn=<MeanBackward0>)\n",
            "tensor(0.0352, grad_fn=<MeanBackward0>)\n",
            "tensor(0.0273, grad_fn=<MeanBackward0>)\n",
            "tensor(0.0430, grad_fn=<MeanBackward0>)\n",
            "tensor(0.0234, grad_fn=<MeanBackward0>)\n",
            "tensor(0.0234, grad_fn=<MeanBackward0>)\n",
            "tensor(0.0234, grad_fn=<MeanBackward0>)\n",
            "tensor(0.0273, grad_fn=<MeanBackward0>)\n",
            "tensor(0.0273, grad_fn=<MeanBackward0>)\n",
            "tensor(0.0195, grad_fn=<MeanBackward0>)\n",
            "tensor(0.0195, grad_fn=<MeanBackward0>)\n",
            "tensor(0.0195, grad_fn=<MeanBackward0>)\n",
            "tensor(0.0195, grad_fn=<MeanBackward0>)\n",
            "tensor(0.0391, grad_fn=<MeanBackward0>)\n",
            "tensor(0.0352, grad_fn=<MeanBackward0>)\n",
            "tensor(0.0313, grad_fn=<MeanBackward0>)\n",
            "tensor(0.0430, grad_fn=<MeanBackward0>)\n",
            "tensor(0.0463, grad_fn=<MeanBackward0>)\n",
            "0.965 "
          ]
        }
      ]
    },
    {
      "cell_type": "code",
      "source": [
        "torch.nn.Linear(4, 1)(torch.arange(12).float().reshape(3,4))"
      ],
      "metadata": {
        "id": "7zqE51jjZoh7",
        "outputId": "5f43f562-debe-4356-8cdf-b5e1392e36d1",
        "colab": {
          "base_uri": "https://localhost:8080/"
        }
      },
      "id": "7zqE51jjZoh7",
      "execution_count": 29,
      "outputs": [
        {
          "output_type": "execute_result",
          "data": {
            "text/plain": [
              "tensor([[0.7588],\n",
              "        [3.1500],\n",
              "        [5.5412]], grad_fn=<AddmmBackward0>)"
            ]
          },
          "metadata": {},
          "execution_count": 29
        }
      ]
    },
    {
      "cell_type": "code",
      "source": [
        "# Per batch\n",
        "def calc_grad(xb, yb, model, loss_f):\n",
        "    preds = model(xb)\n",
        "    loss = loss_f(preds, yb)\n",
        "    print(loss)\n",
        "    loss.backward()"
      ],
      "metadata": {
        "id": "ej3Zup3b9tFb"
      },
      "id": "ej3Zup3b9tFb",
      "execution_count": 102,
      "outputs": []
    },
    {
      "cell_type": "code",
      "source": [
        "def train_epoch(train_dl, model, loss_f):\n",
        "    for xb, yb in train_dl:\n",
        "        calc_grad(xb, yb, model, loss_f)\n",
        "        for p in model.parameters():\n",
        "            with torch.no_grad():\n",
        "                p -= 1.0 * p.grad\n",
        "            p.grad.zero_()"
      ],
      "metadata": {
        "id": "_BNvH4obAhZB"
      },
      "id": "_BNvH4obAhZB",
      "execution_count": 80,
      "outputs": []
    },
    {
      "cell_type": "code",
      "source": [
        "def batch_accuracy(predictions, yb):\n",
        "    predictions = predictions.sigmoid()\n",
        "    return ((predictions > 0.5) == yb).float().mean()"
      ],
      "metadata": {
        "id": "8v_PYlbMBy-5"
      },
      "id": "8v_PYlbMBy-5",
      "execution_count": 81,
      "outputs": []
    },
    {
      "cell_type": "code",
      "source": [
        "def validate_epoch(valid_dl, model):\n",
        "    accs = [batch_accuracy(model(xb), yb) for xb, yb in valid_dl]\n",
        "    return round(torch.stack(accs).mean().item(), 4)"
      ],
      "metadata": {
        "id": "zoY64gMFCsvJ"
      },
      "id": "zoY64gMFCsvJ",
      "execution_count": 82,
      "outputs": []
    },
    {
      "cell_type": "code",
      "source": [
        "def train_model(train_dl, valid_dl, model, loss_f, epochs):\n",
        "    for _ in range(epochs):\n",
        "        train_epoch(train_dl, model, loss_f)\n",
        "        #print(validate_epoch(valid_dl, model), end= ' ')"
      ],
      "metadata": {
        "id": "C2reaFEgBYTa"
      },
      "id": "C2reaFEgBYTa",
      "execution_count": 86,
      "outputs": []
    },
    {
      "cell_type": "code",
      "source": [
        "linear_model = torch.nn.Linear(28*28, 1)\n",
        "linear_model"
      ],
      "metadata": {
        "id": "iT814p-d9kR7",
        "outputId": "1e13ee87-e9c2-482e-bc23-c94b3b305a75",
        "colab": {
          "base_uri": "https://localhost:8080/"
        }
      },
      "id": "iT814p-d9kR7",
      "execution_count": 87,
      "outputs": [
        {
          "output_type": "execute_result",
          "data": {
            "text/plain": [
              "Linear(in_features=784, out_features=1, bias=True)"
            ]
          },
          "metadata": {},
          "execution_count": 87
        }
      ]
    },
    {
      "cell_type": "code",
      "source": [
        "train_model(train_dl, valid_dl, linear_model, mnist_loss, 2)"
      ],
      "metadata": {
        "id": "TY5ZB3bwDyR1",
        "outputId": "56e4c98c-8463-4374-8bfd-dfdda2bef113",
        "colab": {
          "base_uri": "https://localhost:8080/"
        }
      },
      "id": "TY5ZB3bwDyR1",
      "execution_count": 106,
      "outputs": [
        {
          "output_type": "stream",
          "name": "stdout",
          "text": [
            "tensor(0., grad_fn=<MeanBackward0>)\n",
            "tensor(0., grad_fn=<MeanBackward0>)\n",
            "tensor(0., grad_fn=<MeanBackward0>)\n",
            "tensor(0., grad_fn=<MeanBackward0>)\n",
            "tensor(0., grad_fn=<MeanBackward0>)\n",
            "tensor(0., grad_fn=<MeanBackward0>)\n",
            "tensor(0., grad_fn=<MeanBackward0>)\n",
            "tensor(0., grad_fn=<MeanBackward0>)\n",
            "tensor(0., grad_fn=<MeanBackward0>)\n",
            "tensor(0., grad_fn=<MeanBackward0>)\n",
            "tensor(0., grad_fn=<MeanBackward0>)\n",
            "tensor(0., grad_fn=<MeanBackward0>)\n",
            "tensor(0., grad_fn=<MeanBackward0>)\n",
            "tensor(0., grad_fn=<MeanBackward0>)\n",
            "tensor(0., grad_fn=<MeanBackward0>)\n",
            "tensor(0., grad_fn=<MeanBackward0>)\n",
            "tensor(0., grad_fn=<MeanBackward0>)\n",
            "tensor(0., grad_fn=<MeanBackward0>)\n",
            "tensor(0., grad_fn=<MeanBackward0>)\n",
            "tensor(0., grad_fn=<MeanBackward0>)\n",
            "tensor(0., grad_fn=<MeanBackward0>)\n",
            "tensor(0., grad_fn=<MeanBackward0>)\n",
            "tensor(0., grad_fn=<MeanBackward0>)\n",
            "tensor(0.0508, grad_fn=<MeanBackward0>)\n",
            "tensor(1., grad_fn=<MeanBackward0>)\n",
            "tensor(1., grad_fn=<MeanBackward0>)\n",
            "tensor(1., grad_fn=<MeanBackward0>)\n",
            "tensor(1., grad_fn=<MeanBackward0>)\n",
            "tensor(1., grad_fn=<MeanBackward0>)\n",
            "tensor(1., grad_fn=<MeanBackward0>)\n",
            "tensor(1., grad_fn=<MeanBackward0>)\n",
            "tensor(1., grad_fn=<MeanBackward0>)\n",
            "tensor(1., grad_fn=<MeanBackward0>)\n",
            "tensor(1., grad_fn=<MeanBackward0>)\n",
            "tensor(1., grad_fn=<MeanBackward0>)\n",
            "tensor(1., grad_fn=<MeanBackward0>)\n",
            "tensor(1., grad_fn=<MeanBackward0>)\n",
            "tensor(1., grad_fn=<MeanBackward0>)\n",
            "tensor(1., grad_fn=<MeanBackward0>)\n",
            "tensor(1., grad_fn=<MeanBackward0>)\n",
            "tensor(1., grad_fn=<MeanBackward0>)\n",
            "tensor(1., grad_fn=<MeanBackward0>)\n",
            "tensor(1., grad_fn=<MeanBackward0>)\n",
            "tensor(1., grad_fn=<MeanBackward0>)\n",
            "tensor(1., grad_fn=<MeanBackward0>)\n",
            "tensor(1., grad_fn=<MeanBackward0>)\n",
            "tensor(1., grad_fn=<MeanBackward0>)\n",
            "tensor(1., grad_fn=<MeanBackward0>)\n",
            "tensor(1., grad_fn=<MeanBackward0>)\n",
            "tensor(0., grad_fn=<MeanBackward0>)\n",
            "tensor(0., grad_fn=<MeanBackward0>)\n",
            "tensor(0., grad_fn=<MeanBackward0>)\n",
            "tensor(0., grad_fn=<MeanBackward0>)\n",
            "tensor(0., grad_fn=<MeanBackward0>)\n",
            "tensor(0., grad_fn=<MeanBackward0>)\n",
            "tensor(0., grad_fn=<MeanBackward0>)\n",
            "tensor(0., grad_fn=<MeanBackward0>)\n",
            "tensor(0., grad_fn=<MeanBackward0>)\n",
            "tensor(0., grad_fn=<MeanBackward0>)\n",
            "tensor(0., grad_fn=<MeanBackward0>)\n",
            "tensor(0., grad_fn=<MeanBackward0>)\n",
            "tensor(0., grad_fn=<MeanBackward0>)\n",
            "tensor(0., grad_fn=<MeanBackward0>)\n",
            "tensor(0., grad_fn=<MeanBackward0>)\n",
            "tensor(0., grad_fn=<MeanBackward0>)\n",
            "tensor(0., grad_fn=<MeanBackward0>)\n",
            "tensor(0., grad_fn=<MeanBackward0>)\n",
            "tensor(0., grad_fn=<MeanBackward0>)\n",
            "tensor(0., grad_fn=<MeanBackward0>)\n",
            "tensor(0., grad_fn=<MeanBackward0>)\n",
            "tensor(0., grad_fn=<MeanBackward0>)\n",
            "tensor(0., grad_fn=<MeanBackward0>)\n",
            "tensor(0.0508, grad_fn=<MeanBackward0>)\n",
            "tensor(1., grad_fn=<MeanBackward0>)\n",
            "tensor(1., grad_fn=<MeanBackward0>)\n",
            "tensor(1., grad_fn=<MeanBackward0>)\n",
            "tensor(1., grad_fn=<MeanBackward0>)\n",
            "tensor(1., grad_fn=<MeanBackward0>)\n",
            "tensor(1., grad_fn=<MeanBackward0>)\n",
            "tensor(1., grad_fn=<MeanBackward0>)\n",
            "tensor(1., grad_fn=<MeanBackward0>)\n",
            "tensor(1., grad_fn=<MeanBackward0>)\n",
            "tensor(1., grad_fn=<MeanBackward0>)\n",
            "tensor(1., grad_fn=<MeanBackward0>)\n",
            "tensor(1., grad_fn=<MeanBackward0>)\n",
            "tensor(1., grad_fn=<MeanBackward0>)\n",
            "tensor(1., grad_fn=<MeanBackward0>)\n",
            "tensor(1., grad_fn=<MeanBackward0>)\n",
            "tensor(1., grad_fn=<MeanBackward0>)\n",
            "tensor(1., grad_fn=<MeanBackward0>)\n",
            "tensor(1., grad_fn=<MeanBackward0>)\n",
            "tensor(1., grad_fn=<MeanBackward0>)\n",
            "tensor(1., grad_fn=<MeanBackward0>)\n",
            "tensor(1., grad_fn=<MeanBackward0>)\n",
            "tensor(1., grad_fn=<MeanBackward0>)\n",
            "tensor(1., grad_fn=<MeanBackward0>)\n",
            "tensor(1., grad_fn=<MeanBackward0>)\n",
            "tensor(1., grad_fn=<MeanBackward0>)\n"
          ]
        }
      ]
    },
    {
      "cell_type": "code",
      "source": [
        "with torch.no_grad():\n",
        "   print(validate_epoch(valid_dl, linear_model))"
      ],
      "metadata": {
        "id": "SvjFgGmYF4JL",
        "outputId": "adca17b2-f650-41ce-9def-8ef0f75241e9",
        "colab": {
          "base_uri": "https://localhost:8080/"
        }
      },
      "id": "SvjFgGmYF4JL",
      "execution_count": 89,
      "outputs": [
        {
          "output_type": "stream",
          "name": "stdout",
          "text": [
            "0.4932\n"
          ]
        }
      ]
    },
    {
      "cell_type": "code",
      "source": [
        "linear_model(valid_x[1500]).sigmoid()"
      ],
      "metadata": {
        "id": "4sN3Vz_QNDrS",
        "outputId": "e9d1ca2f-a492-47b8-df7d-c37903914e1e",
        "colab": {
          "base_uri": "https://localhost:8080/"
        }
      },
      "id": "4sN3Vz_QNDrS",
      "execution_count": 90,
      "outputs": [
        {
          "output_type": "execute_result",
          "data": {
            "text/plain": [
              "tensor([1.], grad_fn=<SigmoidBackward0>)"
            ]
          },
          "metadata": {},
          "execution_count": 90
        }
      ]
    },
    {
      "cell_type": "code",
      "source": [],
      "metadata": {
        "id": "KPH2hZMOVG4Z"
      },
      "id": "KPH2hZMOVG4Z",
      "execution_count": 79,
      "outputs": []
    }
  ],
  "metadata": {
    "kernelspec": {
      "display_name": "Python 3 (ipykernel)",
      "language": "python",
      "name": "python3"
    },
    "language_info": {
      "codemirror_mode": {
        "name": "ipython",
        "version": 3
      },
      "file_extension": ".py",
      "mimetype": "text/x-python",
      "name": "python",
      "nbconvert_exporter": "python",
      "pygments_lexer": "ipython3",
      "version": "3.10.6"
    },
    "varInspector": {
      "cols": {
        "lenName": 16,
        "lenType": 16,
        "lenVar": 40
      },
      "kernels_config": {
        "python": {
          "delete_cmd_postfix": "",
          "delete_cmd_prefix": "del ",
          "library": "var_list.py",
          "varRefreshCmd": "print(var_dic_list())"
        },
        "r": {
          "delete_cmd_postfix": ") ",
          "delete_cmd_prefix": "rm(",
          "library": "var_list.r",
          "varRefreshCmd": "cat(var_dic_list()) "
        }
      },
      "oldHeight": 624.85,
      "position": {
        "height": "646.85px",
        "left": "1580px",
        "right": "20px",
        "top": "120px",
        "width": "306px"
      },
      "types_to_exclude": [
        "module",
        "function",
        "builtin_function_or_method",
        "instance",
        "_Feature"
      ],
      "varInspector_section_display": "block",
      "window_display": false
    },
    "colab": {
      "provenance": [],
      "include_colab_link": true
    }
  },
  "nbformat": 4,
  "nbformat_minor": 5
}