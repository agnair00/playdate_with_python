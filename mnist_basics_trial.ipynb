{
 "cells": [
  {
   "cell_type": "code",
   "execution_count": 1,
   "id": "3000edc6",
   "metadata": {
    "ExecuteTime": {
     "end_time": "2022-10-05T05:29:19.626512Z",
     "start_time": "2022-10-05T05:29:17.051842Z"
    }
   },
   "outputs": [],
   "source": [
    "from fastai.vision.all import *\n",
    "from fastbook import *\n",
    "import torch"
   ]
  },
  {
   "cell_type": "code",
   "execution_count": 2,
   "id": "b1d547c5",
   "metadata": {
    "ExecuteTime": {
     "end_time": "2022-10-05T05:29:19.653551Z",
     "start_time": "2022-10-05T05:29:19.630211Z"
    }
   },
   "outputs": [
    {
     "data": {
      "text/plain": [
       "Path('/home/abhilash/.fastai/data/mnist_sample')"
      ]
     },
     "execution_count": 2,
     "metadata": {},
     "output_type": "execute_result"
    }
   ],
   "source": [
    "path = untar_data(URLs.MNIST_SAMPLE); path"
   ]
  },
  {
   "cell_type": "code",
   "execution_count": 3,
   "id": "9dfc8c7b",
   "metadata": {
    "ExecuteTime": {
     "end_time": "2022-10-05T05:29:19.681756Z",
     "start_time": "2022-10-05T05:29:19.658107Z"
    }
   },
   "outputs": [
    {
     "data": {
      "text/plain": [
       "(#6131) [Path('/home/abhilash/.fastai/data/mnist_sample/train/3/47123.png'),Path('/home/abhilash/.fastai/data/mnist_sample/train/3/21559.png'),Path('/home/abhilash/.fastai/data/mnist_sample/train/3/17103.png'),Path('/home/abhilash/.fastai/data/mnist_sample/train/3/59660.png'),Path('/home/abhilash/.fastai/data/mnist_sample/train/3/59408.png'),Path('/home/abhilash/.fastai/data/mnist_sample/train/3/20738.png'),Path('/home/abhilash/.fastai/data/mnist_sample/train/3/8195.png'),Path('/home/abhilash/.fastai/data/mnist_sample/train/3/15109.png'),Path('/home/abhilash/.fastai/data/mnist_sample/train/3/54568.png'),Path('/home/abhilash/.fastai/data/mnist_sample/train/3/21075.png')...]"
      ]
     },
     "execution_count": 3,
     "metadata": {},
     "output_type": "execute_result"
    }
   ],
   "source": [
    "paths_train_3 = (path/'train/3').ls(); paths_train_3"
   ]
  },
  {
   "cell_type": "code",
   "execution_count": 4,
   "id": "76c3de75",
   "metadata": {
    "ExecuteTime": {
     "end_time": "2022-10-05T05:29:19.717267Z",
     "start_time": "2022-10-05T05:29:19.690699Z"
    }
   },
   "outputs": [
    {
     "data": {
      "text/plain": [
       "(#6265) [Path('/home/abhilash/.fastai/data/mnist_sample/train/7/7420.png'),Path('/home/abhilash/.fastai/data/mnist_sample/train/7/9878.png'),Path('/home/abhilash/.fastai/data/mnist_sample/train/7/47453.png'),Path('/home/abhilash/.fastai/data/mnist_sample/train/7/18966.png'),Path('/home/abhilash/.fastai/data/mnist_sample/train/7/27005.png'),Path('/home/abhilash/.fastai/data/mnist_sample/train/7/31957.png'),Path('/home/abhilash/.fastai/data/mnist_sample/train/7/14379.png'),Path('/home/abhilash/.fastai/data/mnist_sample/train/7/5811.png'),Path('/home/abhilash/.fastai/data/mnist_sample/train/7/33104.png'),Path('/home/abhilash/.fastai/data/mnist_sample/train/7/43686.png')...]"
      ]
     },
     "execution_count": 4,
     "metadata": {},
     "output_type": "execute_result"
    }
   ],
   "source": [
    "paths_train_7 = (path/'train/7').ls(); paths_train_7"
   ]
  },
  {
   "cell_type": "code",
   "execution_count": 5,
   "id": "e170e508",
   "metadata": {
    "ExecuteTime": {
     "end_time": "2022-10-05T05:29:19.735181Z",
     "start_time": "2022-10-05T05:29:19.723704Z"
    }
   },
   "outputs": [
    {
     "data": {
      "text/plain": [
       "(6131, 6265)"
      ]
     },
     "execution_count": 5,
     "metadata": {},
     "output_type": "execute_result"
    }
   ],
   "source": [
    "len(paths_train_3), len(paths_train_7)"
   ]
  },
  {
   "cell_type": "code",
   "execution_count": 6,
   "id": "5770f356",
   "metadata": {
    "ExecuteTime": {
     "end_time": "2022-10-05T05:29:21.208883Z",
     "start_time": "2022-10-05T05:29:19.744909Z"
    }
   },
   "outputs": [
    {
     "data": {
      "text/plain": [
       "6131"
      ]
     },
     "execution_count": 6,
     "metadata": {},
     "output_type": "execute_result"
    }
   ],
   "source": [
    "train_3_tnrs = [tensor(Image.open(p)) for p in paths_train_3]; len(train_3_tnrs)"
   ]
  },
  {
   "cell_type": "code",
   "execution_count": 7,
   "id": "d174eee8",
   "metadata": {
    "ExecuteTime": {
     "end_time": "2022-10-05T05:29:22.561853Z",
     "start_time": "2022-10-05T05:29:21.211912Z"
    }
   },
   "outputs": [
    {
     "data": {
      "text/plain": [
       "6265"
      ]
     },
     "execution_count": 7,
     "metadata": {},
     "output_type": "execute_result"
    }
   ],
   "source": [
    "train_7_tnrs = [tensor(Image.open(p)) for p in paths_train_7]; len(train_7_tnrs)"
   ]
  },
  {
   "cell_type": "code",
   "execution_count": 8,
   "id": "ecbb7771",
   "metadata": {
    "ExecuteTime": {
     "end_time": "2022-10-05T05:29:22.696976Z",
     "start_time": "2022-10-05T05:29:22.566274Z"
    }
   },
   "outputs": [
    {
     "data": {
      "text/plain": [
       "<matplotlib.image.AxesImage at 0x7f73755cb2e0>"
      ]
     },
     "execution_count": 8,
     "metadata": {},
     "output_type": "execute_result"
    },
    {
     "data": {
      "image/png": "[encoded data removed]",
      "text/plain": [
       "<Figure size 200x200 with 1 Axes>"
      ]
     },
     "metadata": {},
     "output_type": "display_data"
    }
   ],
   "source": [
    "plt.figure(figsize=(2,2))\n",
    "plt.imshow(train_7_tnrs[0], cmap='gray')"
   ]
  },
  {
   "cell_type": "code",
   "execution_count": 9,
   "id": "7e2b5e40",
   "metadata": {
    "ExecuteTime": {
     "end_time": "2022-10-05T05:29:22.722653Z",
     "start_time": "2022-10-05T05:29:22.701184Z"
    }
   },
   "outputs": [
    {
     "data": {
      "text/plain": [
       "torch.Size([6265, 28, 28])"
      ]
     },
     "execution_count": 9,
     "metadata": {},
     "output_type": "execute_result"
    }
   ],
   "source": [
    "train_7_stack = torch.stack(train_7_tnrs); train_7_stack.shape"
   ]
  },
  {
   "cell_type": "code",
   "execution_count": 10,
   "id": "753fd4d7",
   "metadata": {
    "ExecuteTime": {
     "end_time": "2022-10-05T05:29:22.754587Z",
     "start_time": "2022-10-05T05:29:22.734414Z"
    }
   },
   "outputs": [
    {
     "data": {
      "text/plain": [
       "torch.Size([6131, 28, 28])"
      ]
     },
     "execution_count": 10,
     "metadata": {},
     "output_type": "execute_result"
    }
   ],
   "source": [
    "train_3_stack = torch.stack(train_3_tnrs); train_3_stack.shape"
   ]
  },
  {
   "cell_type": "code",
   "execution_count": 11,
   "id": "5fa362b2",
   "metadata": {
    "ExecuteTime": {
     "end_time": "2022-10-05T05:29:22.770333Z",
     "start_time": "2022-10-05T05:29:22.758625Z"
    }
   },
   "outputs": [
    {
     "data": {
      "text/plain": [
       "torch.Size([6131, 784])"
      ]
     },
     "execution_count": 11,
     "metadata": {},
     "output_type": "execute_result"
    }
   ],
   "source": [
    "train_3_flat = train_3_stack.flatten(1); train_3_flat.shape"
   ]
  },
  {
   "cell_type": "code",
   "execution_count": 12,
   "id": "a1b4fd59",
   "metadata": {
    "ExecuteTime": {
     "end_time": "2022-10-05T05:29:22.787976Z",
     "start_time": "2022-10-05T05:29:22.774666Z"
    }
   },
   "outputs": [
    {
     "data": {
      "text/plain": [
       "torch.Size([6265, 784])"
      ]
     },
     "execution_count": 12,
     "metadata": {},
     "output_type": "execute_result"
    }
   ],
   "source": [
    "train_7_flat = train_7_stack.flatten(1); train_7_flat.shape"
   ]
  },
  {
   "cell_type": "code",
   "execution_count": 13,
   "id": "21f82450",
   "metadata": {
    "ExecuteTime": {
     "end_time": "2022-10-05T05:29:22.814639Z",
     "start_time": "2022-10-05T05:29:22.791594Z"
    }
   },
   "outputs": [
    {
     "data": {
      "text/plain": [
       "torch.Size([12396, 784])"
      ]
     },
     "execution_count": 13,
     "metadata": {},
     "output_type": "execute_result"
    }
   ],
   "source": [
    "x_train = torch.cat([train_3_flat, train_7_flat]); x_train.shape"
   ]
  },
  {
   "cell_type": "code",
   "execution_count": 14,
   "id": "cb66b859",
   "metadata": {
    "ExecuteTime": {
     "end_time": "2022-10-05T05:29:22.848356Z",
     "start_time": "2022-10-05T05:29:22.819466Z"
    }
   },
   "outputs": [
    {
     "data": {
      "text/plain": [
       "torch.Size([12396, 784])"
      ]
     },
     "execution_count": 14,
     "metadata": {},
     "output_type": "execute_result"
    }
   ],
   "source": [
    "x_train = x_train.float(); x_train.shape"
   ]
  },
  {
   "cell_type": "code",
   "execution_count": 15,
   "id": "5029ee4a",
   "metadata": {
    "ExecuteTime": {
     "end_time": "2022-10-05T05:29:22.865048Z",
     "start_time": "2022-10-05T05:29:22.852378Z"
    }
   },
   "outputs": [
    {
     "data": {
      "text/plain": [
       "torch.Size([12396, 1])"
      ]
     },
     "execution_count": 15,
     "metadata": {},
     "output_type": "execute_result"
    }
   ],
   "source": [
    "y_train = tensor([1]*len(train_3_tnrs) + [0]*len(train_7_tnrs)).float().unsqueeze(1); y_train.shape"
   ]
  },
  {
   "cell_type": "code",
   "execution_count": 16,
   "id": "80a012c7",
   "metadata": {
    "ExecuteTime": {
     "end_time": "2022-10-05T05:29:22.888173Z",
     "start_time": "2022-10-05T05:29:22.872722Z"
    }
   },
   "outputs": [
    {
     "data": {
      "text/plain": [
       "tensor([-1438.9381])"
      ]
     },
     "execution_count": 16,
     "metadata": {},
     "output_type": "execute_result"
    }
   ],
   "source": [
    "x_train[0] @ torch.randn(x_train.shape[1], 1)"
   ]
  },
  {
   "cell_type": "code",
   "execution_count": 17,
   "id": "d9ce0304",
   "metadata": {
    "ExecuteTime": {
     "end_time": "2022-10-05T05:29:22.905358Z",
     "start_time": "2022-10-05T05:29:22.895120Z"
    }
   },
   "outputs": [],
   "source": [
    "def init_params(shape): return torch.randn(shape).requires_grad_()"
   ]
  },
  {
   "cell_type": "code",
   "execution_count": 18,
   "id": "89f80e78",
   "metadata": {
    "ExecuteTime": {
     "end_time": "2022-10-05T05:29:22.929402Z",
     "start_time": "2022-10-05T05:29:22.912073Z"
    }
   },
   "outputs": [],
   "source": [
    "def linear1(xb): return xb@weights + bias"
   ]
  },
  {
   "cell_type": "code",
   "execution_count": 19,
   "id": "cd755d53",
   "metadata": {
    "ExecuteTime": {
     "end_time": "2022-10-05T05:29:22.947098Z",
     "start_time": "2022-10-05T05:29:22.936837Z"
    }
   },
   "outputs": [],
   "source": [
    "def mnist_loss(preds, trgts):\n",
    "    preds = preds.sigmoid()\n",
    "    return torch.where(trgts==1.0, 1 - preds, preds).mean()"
   ]
  },
  {
   "cell_type": "code",
   "execution_count": 20,
   "id": "c44a4d64",
   "metadata": {
    "ExecuteTime": {
     "end_time": "2022-10-05T05:29:23.179529Z",
     "start_time": "2022-10-05T05:29:22.952029Z"
    }
   },
   "outputs": [
    {
     "data": {
      "text/plain": [
       "12396"
      ]
     },
     "execution_count": 20,
     "metadata": {},
     "output_type": "execute_result"
    }
   ],
   "source": [
    "ds = list((zip(x_train, y_train))); len(ds)"
   ]
  },
  {
   "cell_type": "code",
   "execution_count": null,
   "id": "5597ab50",
   "metadata": {
    "ExecuteTime": {
     "start_time": "2022-10-05T05:30:18.208Z"
    }
   },
   "outputs": [],
   "source": [
    "len(ds[0]), len(ds[1])"
   ]
  },
  {
   "cell_type": "code",
   "execution_count": null,
   "id": "30f1a1e4",
   "metadata": {},
   "outputs": [],
   "source": []
  }
 ],
 "metadata": {
  "kernelspec": {
   "display_name": "Python 3 (ipykernel)",
   "language": "python",
   "name": "python3"
  },
  "language_info": {
   "codemirror_mode": {
    "name": "ipython",
    "version": 3
   },
   "file_extension": ".py",
   "mimetype": "text/x-python",
   "name": "python",
   "nbconvert_exporter": "python",
   "pygments_lexer": "ipython3",
   "version": "3.10.6"
  },
  "varInspector": {
   "cols": {
    "lenName": 16,
    "lenType": 16,
    "lenVar": 40
   },
   "kernels_config": {
    "python": {
     "delete_cmd_postfix": "",
     "delete_cmd_prefix": "del ",
     "library": "var_list.py",
     "varRefreshCmd": "print(var_dic_list())"
    },
    "r": {
     "delete_cmd_postfix": ") ",
     "delete_cmd_prefix": "rm(",
     "library": "var_list.r",
     "varRefreshCmd": "cat(var_dic_list()) "
    }
   },
   "oldHeight": 624.85,
   "position": {
    "height": "646.85px",
    "left": "1580px",
    "right": "20px",
    "top": "120px",
    "width": "306px"
   },
   "types_to_exclude": [
    "module",
    "function",
    "builtin_function_or_method",
    "instance",
    "_Feature"
   ],
   "varInspector_section_display": "block",
   "window_display": false
  }
 },
 "nbformat": 4,
 "nbformat_minor": 5
}
