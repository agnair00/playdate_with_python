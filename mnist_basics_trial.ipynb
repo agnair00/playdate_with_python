{
  "cells": [
    {
      "cell_type": "code",
      "source": [
        "!pip install fastbook"
      ],
      "metadata": {
        "id": "K7EVpOBTBUZb"
      },
      "id": "K7EVpOBTBUZb",
      "execution_count": null,
      "outputs": []
    },
    {
      "cell_type": "code",
      "execution_count": 11,
      "id": "3000edc6",
      "metadata": {
        "ExecuteTime": {
          "end_time": "2022-10-05T05:29:19.626512Z",
          "start_time": "2022-10-05T05:29:17.051842Z"
        },
        "id": "3000edc6"
      },
      "outputs": [],
      "source": [
        "from fastai.vision.all import *\n",
        "from fastbook import *\n",
        "import torch"
      ]
    },
    {
      "cell_type": "code",
      "execution_count": 12,
      "id": "b1d547c5",
      "metadata": {
        "ExecuteTime": {
          "end_time": "2022-10-05T05:29:19.653551Z",
          "start_time": "2022-10-05T05:29:19.630211Z"
        },
        "id": "b1d547c5",
        "outputId": "b15f72e9-b586-4adf-9541-86388fa2fda0",
        "colab": {
          "base_uri": "https://localhost:8080/"
        }
      },
      "outputs": [
        {
          "output_type": "execute_result",
          "data": {
            "text/plain": [
              "Path('/root/.fastai/data/mnist_sample')"
            ]
          },
          "metadata": {},
          "execution_count": 12
        }
      ],
      "source": [
        "path = untar_data(URLs.MNIST_SAMPLE); path"
      ]
    },
    {
      "cell_type": "code",
      "execution_count": 13,
      "id": "9dfc8c7b",
      "metadata": {
        "ExecuteTime": {
          "end_time": "2022-10-05T05:29:19.681756Z",
          "start_time": "2022-10-05T05:29:19.658107Z"
        },
        "id": "9dfc8c7b",
        "outputId": "e5308990-9d83-411c-db88-fb2a2422c30e",
        "colab": {
          "base_uri": "https://localhost:8080/"
        }
      },
      "outputs": [
        {
          "output_type": "execute_result",
          "data": {
            "text/plain": [
              "(#6131) [Path('/root/.fastai/data/mnist_sample/train/3/14467.png'),Path('/root/.fastai/data/mnist_sample/train/3/28263.png'),Path('/root/.fastai/data/mnist_sample/train/3/26596.png'),Path('/root/.fastai/data/mnist_sample/train/3/28037.png'),Path('/root/.fastai/data/mnist_sample/train/3/54615.png'),Path('/root/.fastai/data/mnist_sample/train/3/51837.png'),Path('/root/.fastai/data/mnist_sample/train/3/40462.png'),Path('/root/.fastai/data/mnist_sample/train/3/2203.png'),Path('/root/.fastai/data/mnist_sample/train/3/11929.png'),Path('/root/.fastai/data/mnist_sample/train/3/14352.png')...]"
            ]
          },
          "metadata": {},
          "execution_count": 13
        }
      ],
      "source": [
        "paths_train_3 = (path/'train/3').ls(); paths_train_3"
      ]
    },
    {
      "cell_type": "code",
      "execution_count": 14,
      "id": "76c3de75",
      "metadata": {
        "ExecuteTime": {
          "end_time": "2022-10-05T05:29:19.717267Z",
          "start_time": "2022-10-05T05:29:19.690699Z"
        },
        "id": "76c3de75",
        "outputId": "0cf583d4-5356-4eb8-9111-bd0052bb894a",
        "colab": {
          "base_uri": "https://localhost:8080/"
        }
      },
      "outputs": [
        {
          "output_type": "execute_result",
          "data": {
            "text/plain": [
              "(#6265) [Path('/root/.fastai/data/mnist_sample/train/7/24599.png'),Path('/root/.fastai/data/mnist_sample/train/7/45835.png'),Path('/root/.fastai/data/mnist_sample/train/7/18289.png'),Path('/root/.fastai/data/mnist_sample/train/7/58205.png'),Path('/root/.fastai/data/mnist_sample/train/7/31257.png'),Path('/root/.fastai/data/mnist_sample/train/7/19284.png'),Path('/root/.fastai/data/mnist_sample/train/7/52423.png'),Path('/root/.fastai/data/mnist_sample/train/7/57540.png'),Path('/root/.fastai/data/mnist_sample/train/7/30153.png'),Path('/root/.fastai/data/mnist_sample/train/7/55180.png')...]"
            ]
          },
          "metadata": {},
          "execution_count": 14
        }
      ],
      "source": [
        "paths_train_7 = (path/'train/7').ls(); paths_train_7"
      ]
    },
    {
      "cell_type": "code",
      "execution_count": 15,
      "id": "e170e508",
      "metadata": {
        "ExecuteTime": {
          "end_time": "2022-10-05T05:29:19.735181Z",
          "start_time": "2022-10-05T05:29:19.723704Z"
        },
        "id": "e170e508",
        "outputId": "24161b19-ef2d-4dbc-a5da-a303396d0c16",
        "colab": {
          "base_uri": "https://localhost:8080/"
        }
      },
      "outputs": [
        {
          "output_type": "execute_result",
          "data": {
            "text/plain": [
              "(6131, 6265)"
            ]
          },
          "metadata": {},
          "execution_count": 15
        }
      ],
      "source": [
        "len(paths_train_3), len(paths_train_7)"
      ]
    },
    {
      "cell_type": "code",
      "execution_count": 16,
      "id": "5770f356",
      "metadata": {
        "ExecuteTime": {
          "end_time": "2022-10-05T05:29:21.208883Z",
          "start_time": "2022-10-05T05:29:19.744909Z"
        },
        "id": "5770f356",
        "outputId": "2889a3e2-498d-460b-879c-0eb477cc97c1",
        "colab": {
          "base_uri": "https://localhost:8080/"
        }
      },
      "outputs": [
        {
          "output_type": "execute_result",
          "data": {
            "text/plain": [
              "6131"
            ]
          },
          "metadata": {},
          "execution_count": 16
        }
      ],
      "source": [
        "train_3_tnrs = [tensor(Image.open(p)) for p in paths_train_3]; len(train_3_tnrs)"
      ]
    },
    {
      "cell_type": "code",
      "execution_count": 17,
      "id": "d174eee8",
      "metadata": {
        "ExecuteTime": {
          "end_time": "2022-10-05T05:29:22.561853Z",
          "start_time": "2022-10-05T05:29:21.211912Z"
        },
        "id": "d174eee8",
        "outputId": "48426e2f-b9ba-48c6-c9b8-39df653724e2",
        "colab": {
          "base_uri": "https://localhost:8080/"
        }
      },
      "outputs": [
        {
          "output_type": "execute_result",
          "data": {
            "text/plain": [
              "6265"
            ]
          },
          "metadata": {},
          "execution_count": 17
        }
      ],
      "source": [
        "train_7_tnrs = [tensor(Image.open(p)) for p in paths_train_7]; len(train_7_tnrs)"
      ]
    },
    {
      "cell_type": "code",
      "execution_count": 18,
      "id": "ecbb7771",
      "metadata": {
        "ExecuteTime": {
          "end_time": "2022-10-05T05:29:22.696976Z",
          "start_time": "2022-10-05T05:29:22.566274Z"
        },
        "id": "ecbb7771",
        "outputId": "ada43b12-7847-46ab-ece9-4f3cfb08096c",
        "colab": {
          "base_uri": "https://localhost:8080/",
          "height": 180
        }
      },
      "outputs": [
        {
          "output_type": "execute_result",
          "data": {
            "text/plain": [
              "<matplotlib.image.AxesImage at 0x7fcc2a636590>"
            ]
          },
          "metadata": {},
          "execution_count": 18
        },
        {
          "output_type": "display_data",
          "data": {
            "text/plain": [
              "<Figure size 144x144 with 1 Axes>"
            ],
            "image/png": "[encoded data removed]"
          },
          "metadata": {
            "needs_background": "light"
          }
        }
      ],
      "source": [
        "plt.figure(figsize=(2,2))\n",
        "plt.imshow(train_7_tnrs[0], cmap='gray')"
      ]
    },
    {
      "cell_type": "code",
      "execution_count": 19,
      "id": "7e2b5e40",
      "metadata": {
        "ExecuteTime": {
          "end_time": "2022-10-05T05:29:22.722653Z",
          "start_time": "2022-10-05T05:29:22.701184Z"
        },
        "id": "7e2b5e40",
        "outputId": "d7a22921-294a-428f-dace-22a36f679e27",
        "colab": {
          "base_uri": "https://localhost:8080/"
        }
      },
      "outputs": [
        {
          "output_type": "execute_result",
          "data": {
            "text/plain": [
              "torch.Size([6265, 28, 28])"
            ]
          },
          "metadata": {},
          "execution_count": 19
        }
      ],
      "source": [
        "train_7_stack = torch.stack(train_7_tnrs); train_7_stack.shape"
      ]
    },
    {
      "cell_type": "code",
      "execution_count": 20,
      "id": "753fd4d7",
      "metadata": {
        "ExecuteTime": {
          "end_time": "2022-10-05T05:29:22.754587Z",
          "start_time": "2022-10-05T05:29:22.734414Z"
        },
        "id": "753fd4d7",
        "outputId": "97040666-b15f-4e01-e179-a97510d3ada5",
        "colab": {
          "base_uri": "https://localhost:8080/"
        }
      },
      "outputs": [
        {
          "output_type": "execute_result",
          "data": {
            "text/plain": [
              "torch.Size([6131, 28, 28])"
            ]
          },
          "metadata": {},
          "execution_count": 20
        }
      ],
      "source": [
        "train_3_stack = torch.stack(train_3_tnrs); train_3_stack.shape"
      ]
    },
    {
      "cell_type": "code",
      "execution_count": 21,
      "id": "5fa362b2",
      "metadata": {
        "ExecuteTime": {
          "end_time": "2022-10-05T05:29:22.770333Z",
          "start_time": "2022-10-05T05:29:22.758625Z"
        },
        "id": "5fa362b2",
        "outputId": "0b0ff506-b5ce-4813-942c-67c6dfcbdd65",
        "colab": {
          "base_uri": "https://localhost:8080/"
        }
      },
      "outputs": [
        {
          "output_type": "execute_result",
          "data": {
            "text/plain": [
              "torch.Size([6131, 784])"
            ]
          },
          "metadata": {},
          "execution_count": 21
        }
      ],
      "source": [
        "train_3_flat = train_3_stack.flatten(1); train_3_flat.shape"
      ]
    },
    {
      "cell_type": "code",
      "execution_count": 22,
      "id": "a1b4fd59",
      "metadata": {
        "ExecuteTime": {
          "end_time": "2022-10-05T05:29:22.787976Z",
          "start_time": "2022-10-05T05:29:22.774666Z"
        },
        "id": "a1b4fd59",
        "outputId": "7eca40e7-20db-4fd1-c855-a22b144a9151",
        "colab": {
          "base_uri": "https://localhost:8080/"
        }
      },
      "outputs": [
        {
          "output_type": "execute_result",
          "data": {
            "text/plain": [
              "torch.Size([6265, 784])"
            ]
          },
          "metadata": {},
          "execution_count": 22
        }
      ],
      "source": [
        "train_7_flat = train_7_stack.flatten(1); train_7_flat.shape"
      ]
    },
    {
      "cell_type": "code",
      "execution_count": 23,
      "id": "21f82450",
      "metadata": {
        "ExecuteTime": {
          "end_time": "2022-10-05T05:29:22.814639Z",
          "start_time": "2022-10-05T05:29:22.791594Z"
        },
        "id": "21f82450",
        "outputId": "1770dc16-ccf2-46b0-b02e-87c44fa246d2",
        "colab": {
          "base_uri": "https://localhost:8080/"
        }
      },
      "outputs": [
        {
          "output_type": "execute_result",
          "data": {
            "text/plain": [
              "torch.Size([12396, 784])"
            ]
          },
          "metadata": {},
          "execution_count": 23
        }
      ],
      "source": [
        "x_train = torch.cat([train_3_flat, train_7_flat]); x_train.shape"
      ]
    },
    {
      "cell_type": "code",
      "execution_count": 24,
      "id": "cb66b859",
      "metadata": {
        "ExecuteTime": {
          "end_time": "2022-10-05T05:29:22.848356Z",
          "start_time": "2022-10-05T05:29:22.819466Z"
        },
        "id": "cb66b859",
        "outputId": "17ed0486-03b8-4901-bcd2-dda23836c939",
        "colab": {
          "base_uri": "https://localhost:8080/"
        }
      },
      "outputs": [
        {
          "output_type": "execute_result",
          "data": {
            "text/plain": [
              "torch.Size([12396, 784])"
            ]
          },
          "metadata": {},
          "execution_count": 24
        }
      ],
      "source": [
        "x_train = x_train.float(); x_train.shape"
      ]
    },
    {
      "cell_type": "code",
      "execution_count": 25,
      "id": "5029ee4a",
      "metadata": {
        "ExecuteTime": {
          "end_time": "2022-10-05T05:29:22.865048Z",
          "start_time": "2022-10-05T05:29:22.852378Z"
        },
        "id": "5029ee4a",
        "outputId": "f77672d8-cbc4-45e3-a767-eb5bc1b37771",
        "colab": {
          "base_uri": "https://localhost:8080/"
        }
      },
      "outputs": [
        {
          "output_type": "execute_result",
          "data": {
            "text/plain": [
              "torch.Size([12396, 1])"
            ]
          },
          "metadata": {},
          "execution_count": 25
        }
      ],
      "source": [
        "y_train = tensor([1]*len(train_3_tnrs) + [0]*len(train_7_tnrs)).float().unsqueeze(1); y_train.shape"
      ]
    },
    {
      "cell_type": "code",
      "execution_count": 26,
      "id": "80a012c7",
      "metadata": {
        "ExecuteTime": {
          "end_time": "2022-10-05T05:29:22.888173Z",
          "start_time": "2022-10-05T05:29:22.872722Z"
        },
        "id": "80a012c7",
        "outputId": "46e1d639-78b3-436f-efb8-a1e83c0effc0",
        "colab": {
          "base_uri": "https://localhost:8080/"
        }
      },
      "outputs": [
        {
          "output_type": "execute_result",
          "data": {
            "text/plain": [
              "tensor([-2713.8276])"
            ]
          },
          "metadata": {},
          "execution_count": 26
        }
      ],
      "source": [
        "x_train[0] @ torch.randn(x_train.shape[1], 1)"
      ]
    },
    {
      "cell_type": "code",
      "execution_count": 27,
      "id": "d9ce0304",
      "metadata": {
        "ExecuteTime": {
          "end_time": "2022-10-05T05:29:22.905358Z",
          "start_time": "2022-10-05T05:29:22.895120Z"
        },
        "id": "d9ce0304"
      },
      "outputs": [],
      "source": [
        "def init_params(shape): return torch.randn(shape).requires_grad_()"
      ]
    },
    {
      "cell_type": "code",
      "execution_count": 28,
      "id": "89f80e78",
      "metadata": {
        "ExecuteTime": {
          "end_time": "2022-10-05T05:29:22.929402Z",
          "start_time": "2022-10-05T05:29:22.912073Z"
        },
        "id": "89f80e78"
      },
      "outputs": [],
      "source": [
        "def linear1(xb): return xb@weights + bias"
      ]
    },
    {
      "cell_type": "code",
      "execution_count": 29,
      "id": "cd755d53",
      "metadata": {
        "ExecuteTime": {
          "end_time": "2022-10-05T05:29:22.947098Z",
          "start_time": "2022-10-05T05:29:22.936837Z"
        },
        "id": "cd755d53"
      },
      "outputs": [],
      "source": [
        "def mnist_loss(preds, trgts):\n",
        "    preds = preds.sigmoid()\n",
        "    return torch.where(trgts==1.0, 1 - preds, preds).mean()"
      ]
    },
    {
      "cell_type": "code",
      "execution_count": 30,
      "id": "c44a4d64",
      "metadata": {
        "ExecuteTime": {
          "end_time": "2022-10-05T05:29:23.179529Z",
          "start_time": "2022-10-05T05:29:22.952029Z"
        },
        "id": "c44a4d64",
        "outputId": "6ea8cf61-4079-4f61-9c3e-4ecd92a5ad6a",
        "colab": {
          "base_uri": "https://localhost:8080/"
        }
      },
      "outputs": [
        {
          "output_type": "execute_result",
          "data": {
            "text/plain": [
              "12396"
            ]
          },
          "metadata": {},
          "execution_count": 30
        }
      ],
      "source": [
        "ds = list((zip(x_train, y_train))); len(ds)"
      ]
    },
    {
      "cell_type": "code",
      "execution_count": 36,
      "id": "5597ab50",
      "metadata": {
        "ExecuteTime": {
          "start_time": "2022-10-05T05:30:18.208Z"
        },
        "id": "5597ab50",
        "outputId": "b2447371-9254-4b77-82ae-3d52545139ff",
        "colab": {
          "base_uri": "https://localhost:8080/"
        }
      },
      "outputs": [
        {
          "output_type": "execute_result",
          "data": {
            "text/plain": [
              "(2, 2)"
            ]
          },
          "metadata": {},
          "execution_count": 36
        }
      ],
      "source": [
        "len(ds[0]), len(ds[1])"
      ]
    },
    {
      "cell_type": "code",
      "source": [
        "x_train_0, y_train_0 = ds[0]; x_train_0.shape, y_train_0.shape"
      ],
      "metadata": {
        "id": "6k_SZaDBEjww",
        "outputId": "6e4e0857-6e50-483d-b65f-fe8d29ebde5b",
        "colab": {
          "base_uri": "https://localhost:8080/"
        }
      },
      "id": "6k_SZaDBEjww",
      "execution_count": 43,
      "outputs": [
        {
          "output_type": "execute_result",
          "data": {
            "text/plain": [
              "(torch.Size([784]), torch.Size([1]))"
            ]
          },
          "metadata": {},
          "execution_count": 43
        }
      ]
    },
    {
      "cell_type": "code",
      "source": [],
      "metadata": {
        "id": "6pa9I0qFFTZZ"
      },
      "id": "6pa9I0qFFTZZ",
      "execution_count": null,
      "outputs": []
    }
  ],
  "metadata": {
    "kernelspec": {
      "display_name": "Python 3 (ipykernel)",
      "language": "python",
      "name": "python3"
    },
    "language_info": {
      "codemirror_mode": {
        "name": "ipython",
        "version": 3
      },
      "file_extension": ".py",
      "mimetype": "text/x-python",
      "name": "python",
      "nbconvert_exporter": "python",
      "pygments_lexer": "ipython3",
      "version": "3.10.6"
    },
    "varInspector": {
      "cols": {
        "lenName": 16,
        "lenType": 16,
        "lenVar": 40
      },
      "kernels_config": {
        "python": {
          "delete_cmd_postfix": "",
          "delete_cmd_prefix": "del ",
          "library": "var_list.py",
          "varRefreshCmd": "print(var_dic_list())"
        },
        "r": {
          "delete_cmd_postfix": ") ",
          "delete_cmd_prefix": "rm(",
          "library": "var_list.r",
          "varRefreshCmd": "cat(var_dic_list()) "
        }
      },
      "oldHeight": 624.85,
      "position": {
        "height": "646.85px",
        "left": "1580px",
        "right": "20px",
        "top": "120px",
        "width": "306px"
      },
      "types_to_exclude": [
        "module",
        "function",
        "builtin_function_or_method",
        "instance",
        "_Feature"
      ],
      "varInspector_section_display": "block",
      "window_display": false
    },
    "colab": {
      "provenance": []
    },
    "accelerator": "GPU"
  },
  "nbformat": 4,
  "nbformat_minor": 5
}