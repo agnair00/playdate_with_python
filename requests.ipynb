{
 "cells": [
  {
   "cell_type": "code",
   "execution_count": 1,
   "id": "abccd8de",
   "metadata": {},
   "outputs": [],
   "source": [
    "import requests\n",
    "import base64\n",
    "import json\n",
    "import mimetypes"
   ]
  },
  {
   "cell_type": "code",
   "execution_count": 2,
   "id": "23557ab3",
   "metadata": {},
   "outputs": [],
   "source": [
    "def get_mimetype(filename):\n",
    "    mimetype = mimetypes.guess_type(filename)[0]\n",
    "    if mimetype is not None:\n",
    "        mimetype = mimetype.replace(\"x-wav\", \"wav\").replace(\"x-flac\", \"flac\")\n",
    "    return mimetype"
   ]
  },
  {
   "cell_type": "code",
   "execution_count": 3,
   "id": "18def2a7",
   "metadata": {},
   "outputs": [],
   "source": [
    "def encode_file_to_base64(f, encryption_key=None):\n",
    "    with open(f, \"rb\") as file:\n",
    "        encoded_string = base64.b64encode(file.read())\n",
    "        if encryption_key:\n",
    "            encoded_string = encryptor.decrypt(encryption_key, encoded_string)\n",
    "        base64_str = str(encoded_string, \"utf-8\")\n",
    "        mimetype = get_mimetype(f)\n",
    "        return (\n",
    "            \"data:\"\n",
    "            + (mimetype if mimetype is not None else \"\")\n",
    "            + \";base64,\"\n",
    "            + base64_str\n",
    "        )"
   ]
  },
  {
   "cell_type": "code",
   "execution_count": 4,
   "id": "4323fc4a",
   "metadata": {},
   "outputs": [
    {
     "data": {
      "text/plain": [
       "'data:image/jpeg;base64,/9j/4AAQSkZJRgABAQAAAQABAAD/2wBDAAUDBAQEAwUEBAQFBQUGBwwIBwcHBw8LCwkMEQ8SEhEPERETFhwXExQaFRERGCEYGh0dHx8fExciJCIeJBweHx7/2wBDAQUFBQcGBw4ICA4eFBEUHh4eHh4eHh4eHh4eHh4eHh4eHh4eHh4eHh4eHh4eHh4eHh4eHh4eHh4eHh4eHh4eHh7/wAARCAXcBdwDASIAAhEBAxEB/8QAHwAAAQUBAQEBAQEAAAAAAAAAAAECAwQFBgcICQoL/8QAtRAAAgEDAwIEAwUFBAQAAAF9AQIDAAQRBRIhMUEGE1FhByJxFDKBkaEII0KxwRVS0fAkM2JyggkKFhcYGRolJicoKSo0NTY3ODk6Q0RFRkdISUpTVFVWV1hZWmNkZWZnaGlqc3R1dnd4eXqDhIWGh4iJipKTlJWWl5iZmqKjpKWmp6ipqrKztLW2t7i5usLDxMXGx8jJytLT1NXW19jZ2uHi4+Tl5ufo6erx8vP09fb3+Pn6/8QAHwEAAwEBAQEBAQEBAQAAAAAAAAECAwQFBgcICQoL/8QAtREAAgECBAQDBAcFBAQAAQJ3AAECAxEEBSExBhJBUQdhcRMiMoEIFEKRobHBCSMzUvAVYnLRChYkNOEl8RcYGRomJygpKjU2Nzg5OkNERUZHSElKU1RVVldYWVpjZGVmZ2hpanN0dXZ3eHl6goOEhYaHiImKkpOUlZaXmJmaoqOkpaanqKmqsrO0tba3uLm6wsPExcbHyMnK0tPU1dbX2Nna4uPk5ebn6Onq8vP09fb3+Pn6/9oADAMBAAIRAxEAPwD7LooooAKKKKACiiigAooooAKKKKACiiigAooooAKKKKACiiigAooooAKKKKACiiigAooooAKKKKACiiigAooooAKKKKACiiigAooooAKKKKACiiigAooooAKKKKACiiigAooooAKKKKACiiig"
      ]
     },
     "execution_count": 4,
     "metadata": {},
     "output_type": "execute_result"
    },
    {
     "data": {
      "text/html": [
       "<b>limit_output extension: Maximum message size of 1000 exceeded with 88617 characters</b>"
      ]
     },
     "metadata": {},
     "output_type": "display_data"
    }
   ],
   "source": [
    "imb64 = encode_file_to_base64('nb_files/baseball_bat.jpg')\n",
    "imb64"
   ]
  },
  {
   "cell_type": "code",
   "execution_count": 5,
   "id": "8ebec915",
   "metadata": {},
   "outputs": [],
   "source": [
    "url = 'https://hf.space/embed/agnair00/baseball_or_cricket/+/api/predict'"
   ]
  },
  {
   "cell_type": "code",
   "execution_count": 6,
   "id": "c2754e20",
   "metadata": {},
   "outputs": [],
   "source": [
    "resp = requests.post(url, json={\"data\": [imb64]})"
   ]
  },
  {
   "cell_type": "code",
   "execution_count": 7,
   "id": "76103bf4",
   "metadata": {},
   "outputs": [
    {
     "name": "stdout",
     "output_type": "stream",
     "text": [
      "b'{\"data\":[{\"label\":\"baseball bat\",\"confidences\":[{\"label\":\"baseball bat\",\"confidence\":0.9999982118606567},{\"label\":\"cricket bat\",\"confidence\":1.7714479554342688e-6}]}],\"is_generating\":false,\"duration\":0.0432131290435791,\"average_duration\":0.04630261309006635}'\n"
     ]
    }
   ],
   "source": [
    "print(resp.content)"
   ]
  },
  {
   "cell_type": "code",
   "execution_count": null,
   "id": "dc2e7c73",
   "metadata": {},
   "outputs": [],
   "source": []
  }
 ],
 "metadata": {
  "kernelspec": {
   "display_name": "Python 3 (ipykernel)",
   "language": "python",
   "name": "python3"
  },
  "language_info": {
   "codemirror_mode": {
    "name": "ipython",
    "version": 3
   },
   "file_extension": ".py",
   "mimetype": "text/x-python",
   "name": "python",
   "nbconvert_exporter": "python",
   "pygments_lexer": "ipython3",
   "version": "3.10.6"
  }
 },
 "nbformat": 4,
 "nbformat_minor": 5
}
