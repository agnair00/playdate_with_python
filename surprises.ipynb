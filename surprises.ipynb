{
 "cells": [
  {
   "cell_type": "code",
   "execution_count": 11,
   "id": "3d096322",
   "metadata": {},
   "outputs": [],
   "source": [
    "!echo $'line 1\\nline 2\\nline 3' > /tmp/lines.txt"
   ]
  },
  {
   "cell_type": "code",
   "execution_count": 12,
   "id": "216530ae",
   "metadata": {},
   "outputs": [
    {
     "name": "stdout",
     "output_type": "stream",
     "text": [
      "line 1\n",
      "\n",
      "line 2\n",
      "\n",
      "line 3\n",
      "\n"
     ]
    }
   ],
   "source": [
    "with open('/tmp/lines.txt') as f:\n",
    "    for l in f:\n",
    "        print(l)"
   ]
  },
  {
   "cell_type": "code",
   "execution_count": 13,
   "id": "f758d3e6",
   "metadata": {},
   "outputs": [
    {
     "data": {
      "text/plain": [
       "['line 1\\n', 'line 2\\n', 'line 3\\n']"
      ]
     },
     "execution_count": 13,
     "metadata": {},
     "output_type": "execute_result"
    }
   ],
   "source": [
    "with open('/tmp/lines.txt') as f:\n",
    "    lines = list(f)\n",
    "lines"
   ]
  },
  {
   "cell_type": "code",
   "execution_count": 14,
   "id": "0594354c",
   "metadata": {},
   "outputs": [
    {
     "data": {
      "text/plain": [
       "['line 1', 'line 2', 'line 3']"
      ]
     },
     "execution_count": 14,
     "metadata": {},
     "output_type": "execute_result"
    }
   ],
   "source": [
    "with open('/tmp/lines.txt') as f:\n",
    "    lines = list(map(str.strip, f))\n",
    "lines"
   ]
  },
  {
   "cell_type": "code",
   "execution_count": 15,
   "id": "b58ded98",
   "metadata": {},
   "outputs": [
    {
     "data": {
      "text/plain": [
       "<map at 0x7f83e9fed9c0>"
      ]
     },
     "execution_count": 15,
     "metadata": {},
     "output_type": "execute_result"
    }
   ],
   "source": [
    "with open('/tmp/lines.txt') as f:\n",
    "    lines = map(str.strip, f)\n",
    "lines"
   ]
  },
  {
   "cell_type": "code",
   "execution_count": 16,
   "id": "77b072c8",
   "metadata": {},
   "outputs": [
    {
     "ename": "ValueError",
     "evalue": "I/O operation on closed file.",
     "output_type": "error",
     "traceback": [
      "\u001b[0;31m---------------------------------------------------------------------------\u001b[0m",
      "\u001b[0;31mValueError\u001b[0m                                Traceback (most recent call last)",
      "Cell \u001b[0;32mIn [16], line 3\u001b[0m\n\u001b[1;32m      1\u001b[0m \u001b[38;5;28;01mwith\u001b[39;00m \u001b[38;5;28mopen\u001b[39m(\u001b[38;5;124m'\u001b[39m\u001b[38;5;124m/tmp/lines.txt\u001b[39m\u001b[38;5;124m'\u001b[39m) \u001b[38;5;28;01mas\u001b[39;00m f:\n\u001b[1;32m      2\u001b[0m     lines \u001b[38;5;241m=\u001b[39m \u001b[38;5;28mmap\u001b[39m(\u001b[38;5;28mstr\u001b[39m\u001b[38;5;241m.\u001b[39mstrip, f)\n\u001b[0;32m----> 3\u001b[0m \u001b[38;5;28;01mfor\u001b[39;00m l \u001b[38;5;129;01min\u001b[39;00m lines:\n\u001b[1;32m      4\u001b[0m     \u001b[38;5;28mprint\u001b[39m(l)\n",
      "\u001b[0;31mValueError\u001b[0m: I/O operation on closed file."
     ]
    }
   ],
   "source": [
    "with open('/tmp/lines.txt') as f:\n",
    "    lines = map(str.strip, f)\n",
    "for l in lines:\n",
    "    print(l)"
   ]
  },
  {
   "cell_type": "markdown",
   "id": "d4bf367b",
   "metadata": {},
   "source": [
    "Isn't this surprising! Why are file operations still valid here!"
   ]
  },
  {
   "cell_type": "markdown",
   "id": "3b43c308",
   "metadata": {},
   "source": [
    "Turns out, map object yields values when iterated. Interesting. https://docs.python.org/3/library/functions.html#map"
   ]
  },
  {
   "cell_type": "markdown",
   "id": "b56abc41",
   "metadata": {},
   "source": [
    "### Let us try subclassing list"
   ]
  },
  {
   "cell_type": "code",
   "execution_count": 17,
   "id": "c3debd5f",
   "metadata": {},
   "outputs": [],
   "source": [
    "class L(list):\n",
    "    def map(self, f):\n",
    "        return map(f, self)"
   ]
  },
  {
   "cell_type": "code",
   "execution_count": 18,
   "id": "fa979338",
   "metadata": {},
   "outputs": [
    {
     "data": {
      "text/plain": [
       "[0, 1, 4, 9, 16, 25, 36, 49, 64, 81]"
      ]
     },
     "execution_count": 18,
     "metadata": {},
     "output_type": "execute_result"
    }
   ],
   "source": [
    "list(L(range(10)).map(lambda x : x ** 2))"
   ]
  },
  {
   "cell_type": "markdown",
   "id": "cfde359b",
   "metadata": {},
   "source": [
    "### Function and arguments"
   ]
  },
  {
   "cell_type": "code",
   "execution_count": 19,
   "id": "4233e413",
   "metadata": {},
   "outputs": [],
   "source": [
    "def f1(x,y,z):\n",
    "    print(f'x:{x} y:{y} z:{z}')"
   ]
  },
  {
   "cell_type": "code",
   "execution_count": 20,
   "id": "80a10f0d",
   "metadata": {},
   "outputs": [
    {
     "name": "stdout",
     "output_type": "stream",
     "text": [
      "x:1 y:2 z:3\n"
     ]
    }
   ],
   "source": [
    "f1(1,2,3)"
   ]
  },
  {
   "cell_type": "code",
   "execution_count": 21,
   "id": "ccdf672b",
   "metadata": {},
   "outputs": [
    {
     "name": "stdout",
     "output_type": "stream",
     "text": [
      "x:3 y:1 z:2\n"
     ]
    }
   ],
   "source": [
    "f1(y=1,z=2,x=3)"
   ]
  },
  {
   "cell_type": "code",
   "execution_count": 22,
   "id": "de97ecd1",
   "metadata": {},
   "outputs": [
    {
     "ename": "TypeError",
     "evalue": "f1() got multiple values for argument 'x'",
     "output_type": "error",
     "traceback": [
      "\u001b[0;31m---------------------------------------------------------------------------\u001b[0m",
      "\u001b[0;31mTypeError\u001b[0m                                 Traceback (most recent call last)",
      "Cell \u001b[0;32mIn [22], line 1\u001b[0m\n\u001b[0;32m----> 1\u001b[0m \u001b[43mf1\u001b[49m\u001b[43m(\u001b[49m\u001b[38;5;241;43m1\u001b[39;49m\u001b[43m,\u001b[49m\u001b[38;5;241;43m2\u001b[39;49m\u001b[43m,\u001b[49m\u001b[43mx\u001b[49m\u001b[38;5;241;43m=\u001b[39;49m\u001b[38;5;241;43m3\u001b[39;49m\u001b[43m)\u001b[49m\n",
      "\u001b[0;31mTypeError\u001b[0m: f1() got multiple values for argument 'x'"
     ]
    }
   ],
   "source": [
    "f1(1,2,x=3)"
   ]
  },
  {
   "cell_type": "code",
   "execution_count": 23,
   "id": "10df0c87",
   "metadata": {},
   "outputs": [],
   "source": [
    "def f2(*, x, y, z):\n",
    "    print(f'x:{x} y:{y} z:{z}')"
   ]
  },
  {
   "cell_type": "code",
   "execution_count": 24,
   "id": "ea2ae15d",
   "metadata": {},
   "outputs": [
    {
     "name": "stdout",
     "output_type": "stream",
     "text": [
      "x:1 y:2 z:3\n"
     ]
    }
   ],
   "source": [
    "f2(x=1,y=2,z=3)"
   ]
  }
 ],
 "metadata": {
  "kernelspec": {
   "display_name": "Python 3 (ipykernel)",
   "language": "python",
   "name": "python3"
  },
  "language_info": {
   "codemirror_mode": {
    "name": "ipython",
    "version": 3
   },
   "file_extension": ".py",
   "mimetype": "text/x-python",
   "name": "python",
   "nbconvert_exporter": "python",
   "pygments_lexer": "ipython3",
   "version": "3.10.6"
  }
 },
 "nbformat": 4,
 "nbformat_minor": 5
}
