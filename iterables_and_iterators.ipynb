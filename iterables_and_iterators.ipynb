{
 "cells": [
  {
   "cell_type": "markdown",
   "id": "82c74964",
   "metadata": {},
   "source": [
    "Iterator gives the next thing in it. That's all I think it does. It does not give the previous thing or anything else like that. Just gives the next thing. It's simple."
   ]
  },
  {
   "cell_type": "markdown",
   "id": "2315e4ab",
   "metadata": {},
   "source": [
    "So one thing I want to do is to check if something in python is an iterator. After some googling, it seems like we can check for such things using the `collections.abc` module. Let's try it out."
   ]
  },
  {
   "cell_type": "code",
   "execution_count": 3,
   "id": "fd063ae1",
   "metadata": {},
   "outputs": [],
   "source": [
    "import collections.abc"
   ]
  },
  {
   "cell_type": "code",
   "execution_count": 4,
   "id": "1101439b",
   "metadata": {},
   "outputs": [
    {
     "data": {
      "text/plain": [
       "False"
      ]
     },
     "execution_count": 4,
     "metadata": {},
     "output_type": "execute_result"
    }
   ],
   "source": [
    "isinstance(range(10), collections.abc.Iterator)"
   ]
  },
  {
   "cell_type": "code",
   "execution_count": 5,
   "id": "b2147429",
   "metadata": {},
   "outputs": [
    {
     "data": {
      "text/plain": [
       "True"
      ]
     },
     "execution_count": 5,
     "metadata": {},
     "output_type": "execute_result"
    }
   ],
   "source": [
    "isinstance(range(10), collections.abc.Iterable)"
   ]
  },
  {
   "cell_type": "markdown",
   "id": "dbd08e9b",
   "metadata": {},
   "source": [
    "Interesting, range returns an iterable but not an iterator."
   ]
  },
  {
   "cell_type": "code",
   "execution_count": 6,
   "id": "ceaf76ba",
   "metadata": {},
   "outputs": [
    {
     "data": {
      "text/plain": [
       "True"
      ]
     },
     "execution_count": 6,
     "metadata": {},
     "output_type": "execute_result"
    }
   ],
   "source": [
    "isinstance(iter(range(10)), collections.abc.Iterator)"
   ]
  },
  {
   "cell_type": "markdown",
   "id": "1ad2d5a6",
   "metadata": {},
   "source": [
    "Alright, so `iter` returns an iterator from an iterable object."
   ]
  },
  {
   "cell_type": "markdown",
   "id": "ddc53975",
   "metadata": {},
   "source": [
    "A thing to note is that `isinstance`, `iter` and `range` are all built-in functions."
   ]
  },
  {
   "cell_type": "markdown",
   "id": "c4387bf1",
   "metadata": {},
   "source": [
    "Let us try another built-in function which is `next`."
   ]
  },
  {
   "cell_type": "code",
   "execution_count": 7,
   "id": "38d47f8d",
   "metadata": {},
   "outputs": [
    {
     "ename": "TypeError",
     "evalue": "'range' object is not an iterator",
     "output_type": "error",
     "traceback": [
      "\u001b[0;31m---------------------------------------------------------------------------\u001b[0m",
      "\u001b[0;31mTypeError\u001b[0m                                 Traceback (most recent call last)",
      "Cell \u001b[0;32mIn [7], line 1\u001b[0m\n\u001b[0;32m----> 1\u001b[0m \u001b[38;5;28;43mnext\u001b[39;49m\u001b[43m(\u001b[49m\u001b[38;5;28;43mrange\u001b[39;49m\u001b[43m(\u001b[49m\u001b[38;5;241;43m10\u001b[39;49m\u001b[43m)\u001b[49m\u001b[43m)\u001b[49m\n",
      "\u001b[0;31mTypeError\u001b[0m: 'range' object is not an iterator"
     ]
    }
   ],
   "source": [
    "next(range(10))"
   ]
  },
  {
   "cell_type": "markdown",
   "id": "6cde787f",
   "metadata": {},
   "source": [
    "Makes sense as `range` returns an iterable and not an iterator and `next` accepts an iterator as its argument."
   ]
  },
  {
   "cell_type": "code",
   "execution_count": 14,
   "id": "0d626371",
   "metadata": {},
   "outputs": [
    {
     "data": {
      "text/plain": [
       "0"
      ]
     },
     "execution_count": 14,
     "metadata": {},
     "output_type": "execute_result"
    }
   ],
   "source": [
    "next(iter(range(10)))"
   ]
  },
  {
   "cell_type": "code",
   "execution_count": 15,
   "id": "9ca1dac4",
   "metadata": {},
   "outputs": [
    {
     "data": {
      "text/plain": [
       "0"
      ]
     },
     "execution_count": 15,
     "metadata": {},
     "output_type": "execute_result"
    }
   ],
   "source": [
    "next(iter(range(10)))"
   ]
  },
  {
   "cell_type": "markdown",
   "id": "74bf3a58",
   "metadata": {},
   "source": [
    "Iterators stores the state they are in so that they can return the next item."
   ]
  },
  {
   "cell_type": "code",
   "execution_count": 11,
   "id": "e6cae3ae",
   "metadata": {},
   "outputs": [
    {
     "data": {
      "text/plain": [
       "<range_iterator at 0x7fb3b849fcf0>"
      ]
     },
     "execution_count": 11,
     "metadata": {},
     "output_type": "execute_result"
    }
   ],
   "source": [
    "range_iter = iter(range(10))\n",
    "range_iter"
   ]
  },
  {
   "cell_type": "code",
   "execution_count": 12,
   "id": "09875869",
   "metadata": {},
   "outputs": [
    {
     "data": {
      "text/plain": [
       "0"
      ]
     },
     "execution_count": 12,
     "metadata": {},
     "output_type": "execute_result"
    }
   ],
   "source": [
    "next(range_iter)"
   ]
  },
  {
   "cell_type": "code",
   "execution_count": 13,
   "id": "cb2f2e26",
   "metadata": {},
   "outputs": [
    {
     "data": {
      "text/plain": [
       "1"
      ]
     },
     "execution_count": 13,
     "metadata": {},
     "output_type": "execute_result"
    }
   ],
   "source": [
    "next(range_iter)"
   ]
  },
  {
   "cell_type": "code",
   "execution_count": null,
   "id": "ee7a865a",
   "metadata": {},
   "outputs": [],
   "source": []
  }
 ],
 "metadata": {
  "kernelspec": {
   "display_name": "Python 3 (ipykernel)",
   "language": "python",
   "name": "python3"
  },
  "language_info": {
   "codemirror_mode": {
    "name": "ipython",
    "version": 3
   },
   "file_extension": ".py",
   "mimetype": "text/x-python",
   "name": "python",
   "nbconvert_exporter": "python",
   "pygments_lexer": "ipython3",
   "version": "3.10.6"
  }
 },
 "nbformat": 4,
 "nbformat_minor": 5
}
